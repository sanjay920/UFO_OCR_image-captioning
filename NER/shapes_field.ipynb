{
 "cells": [
  {
   "cell_type": "code",
   "execution_count": 40,
   "metadata": {
    "collapsed": true
   },
   "outputs": [],
   "source": [
    "import pandas as pd\n",
    "import ast"
   ]
  },
  {
   "cell_type": "code",
   "execution_count": 41,
   "metadata": {
    "collapsed": true
   },
   "outputs": [],
   "source": [
    "common_shapes = ['changed','light','shape','fireball','egg','round','cylinder','unknown','pyramid','sphere','cone','oval','disk','flare','unknown','crescent','flash','cross','teardrop','chevron','circle','rectangle','triangle','cigar','diamond','delta','formation','changing', 'plane']"
   ]
  },
  {
   "cell_type": "code",
   "execution_count": 42,
   "metadata": {
    "collapsed": true
   },
   "outputs": [],
   "source": [
    "df = pd.read_csv('merged_PDF_images.csv')\n",
    "df['shape'] = ''"
   ]
  },
  {
   "cell_type": "code",
   "execution_count": 43,
   "metadata": {},
   "outputs": [],
   "source": [
    "for index, row in df.iterrows():\n",
    "    row_text = row['text']\n",
    "    row_classes = row['Class']\n",
    "    row_shapes = []\n",
    "    \n",
    "    # Check text\n",
    "    for shape in common_shapes:\n",
    "        if shape in str(row_text):\n",
    "            if shape not in row_shapes:\n",
    "                row_shapes.append(shape)\n",
    "    \n",
    "    # Check classes\n",
    "    if not pd.isnull(row_classes):\n",
    "        row_classes = ast.literal_eval(row_classes)\n",
    "        for shape in common_shapes:\n",
    "            if shape in row_classes:\n",
    "                if shape not in row_shapes:\n",
    "                    row_shapes.append(shape)\n",
    "                    \n",
    "    this_shape = \",\".join(row_shapes)\n",
    "    df.loc[index, 'shape'] = this_shape"
   ]
  },
  {
   "cell_type": "code",
   "execution_count": 44,
   "metadata": {},
   "outputs": [
    {
     "data": {
      "text/plain": [
       "2027    \n",
       "2592    \n",
       "1560    \n",
       "724     \n",
       "1279    \n",
       "Name: shape, dtype: object"
      ]
     },
     "execution_count": 44,
     "metadata": {},
     "output_type": "execute_result"
    }
   ],
   "source": [
    "df.sample(5)['shape']"
   ]
  },
  {
   "cell_type": "code",
   "execution_count": 45,
   "metadata": {},
   "outputs": [
    {
     "data": {
      "text/plain": [
       "3533"
      ]
     },
     "execution_count": 45,
     "metadata": {},
     "output_type": "execute_result"
    }
   ],
   "source": [
    "len(df)"
   ]
  },
  {
   "cell_type": "code",
   "execution_count": 46,
   "metadata": {
    "collapsed": true
   },
   "outputs": [],
   "source": [
    "df.to_csv('PA2_UFO_sightings.csv', index=False, encoding='utf-8')"
   ]
  },
  {
   "cell_type": "code",
   "execution_count": null,
   "metadata": {
    "collapsed": true
   },
   "outputs": [],
   "source": []
  }
 ],
 "metadata": {
  "kernelspec": {
   "display_name": "Python 2",
   "language": "python",
   "name": "python2"
  },
  "language_info": {
   "codemirror_mode": {
    "name": "ipython",
    "version": 2
   },
   "file_extension": ".py",
   "mimetype": "text/x-python",
   "name": "python",
   "nbconvert_exporter": "python",
   "pygments_lexer": "ipython2",
   "version": "2.7.14"
  }
 },
 "nbformat": 4,
 "nbformat_minor": 2
}
