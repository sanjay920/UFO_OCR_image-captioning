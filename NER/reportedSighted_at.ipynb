{
 "cells": [
  {
   "cell_type": "code",
   "execution_count": 24,
   "metadata": {},
   "outputs": [],
   "source": [
    "import pandas as pd\n",
    "import pickle\n",
    "import dateparser\n",
    "from dateutil.parser import parse"
   ]
  },
  {
   "cell_type": "code",
   "execution_count": 4,
   "metadata": {
    "collapsed": true
   },
   "outputs": [],
   "source": [
    "with open('2018-04-1211-04-33.411746.pickle', 'rb') as handle:\n",
    "    master_dict = pickle.load(handle)"
   ]
  },
  {
   "cell_type": "code",
   "execution_count": 32,
   "metadata": {
    "collapsed": true
   },
   "outputs": [],
   "source": [
    "with open('2018-04-12-11-04-33.411815_df.pickle', 'rb') as handle:\n",
    "    df = pickle.load(handle)\n",
    "    df['reported_at'] = ''\n",
    "    df['sighted_at'] = ''\n",
    "    df = df.drop('Id', 1)"
   ]
  },
  {
   "cell_type": "code",
   "execution_count": 33,
   "metadata": {},
   "outputs": [
    {
     "data": {
      "text/html": [
       "<div>\n",
       "<table border=\"1\" class=\"dataframe\">\n",
       "  <thead>\n",
       "    <tr style=\"text-align: right;\">\n",
       "      <th></th>\n",
       "      <th>Captions</th>\n",
       "      <th>Class</th>\n",
       "      <th>Class_1</th>\n",
       "      <th>Class_2</th>\n",
       "      <th>Class_3</th>\n",
       "      <th>Class_4</th>\n",
       "      <th>Class_5</th>\n",
       "      <th>Class_6</th>\n",
       "      <th>Class_7</th>\n",
       "      <th>URL</th>\n",
       "      <th>id</th>\n",
       "      <th>text</th>\n",
       "      <th>location</th>\n",
       "      <th>date</th>\n",
       "      <th>lat</th>\n",
       "      <th>lon</th>\n",
       "      <th>named_entities</th>\n",
       "      <th>DATE</th>\n",
       "      <th>reported_at</th>\n",
       "      <th>sighted_at</th>\n",
       "    </tr>\n",
       "  </thead>\n",
       "  <tbody>\n",
       "    <tr>\n",
       "      <th>0</th>\n",
       "      <td>NaN</td>\n",
       "      <td>NaN</td>\n",
       "      <td>NaN</td>\n",
       "      <td>NaN</td>\n",
       "      <td>NaN</td>\n",
       "      <td>NaN</td>\n",
       "      <td>NaN</td>\n",
       "      <td>NaN</td>\n",
       "      <td>NaN</td>\n",
       "      <td>NaN</td>\n",
       "      <td>DEFE-24-1922_29</td>\n",
       "      <td>K. NEARBY OBJECTS\\n(Telephone lines, high volt...</td>\n",
       "      <td>RAF, Turnhouse Road, Dolphington Cottages, Ing...</td>\n",
       "      <td></td>\n",
       "      <td>55.9516</td>\n",
       "      <td>-3.34694</td>\n",
       "      <td>[(u'TITLE', u'river'), (u'CAUSE_OF_DEATH', u'f...</td>\n",
       "      <td>MAY</td>\n",
       "      <td></td>\n",
       "      <td></td>\n",
       "    </tr>\n",
       "    <tr>\n",
       "      <th>1</th>\n",
       "      <td>NaN</td>\n",
       "      <td>NaN</td>\n",
       "      <td>NaN</td>\n",
       "      <td>NaN</td>\n",
       "      <td>NaN</td>\n",
       "      <td>NaN</td>\n",
       "      <td>NaN</td>\n",
       "      <td>NaN</td>\n",
       "      <td>NaN</td>\n",
       "      <td>NaN</td>\n",
       "      <td>DEFE-24-1922_15</td>\n",
       "      <td>REPORT OF AN UNIDENTIFIED FLYING OBJECT\\n\\n \\n...</td>\n",
       "      <td>Time, Telegraph Road, Woodchurch, Wirral, Nort...</td>\n",
       "      <td></td>\n",
       "      <td>53.3287</td>\n",
       "      <td>-3.10015</td>\n",
       "      <td>[(u'ORGANIZATION', u'Time'), (u'NUMBER', u'27,...</td>\n",
       "      <td></td>\n",
       "      <td></td>\n",
       "      <td></td>\n",
       "    </tr>\n",
       "  </tbody>\n",
       "</table>\n",
       "</div>"
      ],
      "text/plain": [
       "  Captions Class Class_1 Class_2 Class_3 Class_4 Class_5 Class_6 Class_7  URL  \\\n",
       "0      NaN   NaN     NaN     NaN     NaN     NaN     NaN     NaN     NaN  NaN   \n",
       "1      NaN   NaN     NaN     NaN     NaN     NaN     NaN     NaN     NaN  NaN   \n",
       "\n",
       "                id                                               text  \\\n",
       "0  DEFE-24-1922_29  K. NEARBY OBJECTS\\n(Telephone lines, high volt...   \n",
       "1  DEFE-24-1922_15  REPORT OF AN UNIDENTIFIED FLYING OBJECT\\n\\n \\n...   \n",
       "\n",
       "                                            location date      lat      lon  \\\n",
       "0  RAF, Turnhouse Road, Dolphington Cottages, Ing...       55.9516 -3.34694   \n",
       "1  Time, Telegraph Road, Woodchurch, Wirral, Nort...       53.3287 -3.10015   \n",
       "\n",
       "                                      named_entities DATE reported_at  \\\n",
       "0  [(u'TITLE', u'river'), (u'CAUSE_OF_DEATH', u'f...  MAY               \n",
       "1  [(u'ORGANIZATION', u'Time'), (u'NUMBER', u'27,...                    \n",
       "\n",
       "  sighted_at  \n",
       "0             \n",
       "1             "
      ]
     },
     "execution_count": 33,
     "metadata": {},
     "output_type": "execute_result"
    }
   ],
   "source": [
    "df.head(2)"
   ]
  },
  {
   "cell_type": "markdown",
   "metadata": {},
   "source": [
    "### Go through each row and assign reported_at and sighted_at"
   ]
  },
  {
   "cell_type": "code",
   "execution_count": null,
   "metadata": {},
   "outputs": [],
   "source": [
    "for index,row in df.iterrows():\n",
    "#     print index\n",
    "    row_id = row['id']\n",
    "    ners = master_dict[row_id]\n",
    "    reported_at = ''\n",
    "    sighted_at = ''\n",
    "    cnt = 0\n",
    "    for nr in ners:\n",
    "        if nr[0] == 'DATE':\n",
    "            try:\n",
    "                if dateparser.parse(nr[1]):\n",
    "                    cnt += 1\n",
    "\n",
    "                    if cnt == 2:\n",
    "                        second_date = nr[1]\n",
    "                        first_dt = dateparser.parse(first_date)\n",
    "                        second_dt = dateparser.parse(second_date)\n",
    "                        if first_dt < second_dt:\n",
    "                            sighted_at = first_date\n",
    "                            reported_at = second_date\n",
    "                        else:\n",
    "                            sighted_at = second_date\n",
    "                            reported_at = first_date\n",
    "                        break\n",
    "                    else:\n",
    "                        first_date = nr[1]\n",
    "                        sighted_at = nr[1]\n",
    "            except:\n",
    "                continue\n",
    "    df.loc[index, 'reported_at'] = reported_at\n",
    "    df.loc[index, 'sighted_at'] = sighted_at"
   ]
  },
  {
   "cell_type": "code",
   "execution_count": 45,
   "metadata": {
    "collapsed": true
   },
   "outputs": [],
   "source": [
    "df.text.replace({r'[^\\x00-\\x7F]+':''}, regex=True, inplace=True)"
   ]
  },
  {
   "cell_type": "code",
   "execution_count": 46,
   "metadata": {},
   "outputs": [],
   "source": [
    "df.to_csv('PDFs_reported_sighted_at.csv', index=False, encoding='utf-8')"
   ]
  },
  {
   "cell_type": "code",
   "execution_count": 47,
   "metadata": {
    "collapsed": true
   },
   "outputs": [],
   "source": [
    "with open('PDFs_reported_sighted_at.pickle', 'wb') as handle:\n",
    "    pickle.dump(df, handle, protocol=pickle.HIGHEST_PROTOCOL)"
   ]
  },
  {
   "cell_type": "code",
   "execution_count": 42,
   "metadata": {},
   "outputs": [],
   "source": []
  },
  {
   "cell_type": "code",
   "execution_count": null,
   "metadata": {
    "collapsed": true
   },
   "outputs": [],
   "source": []
  }
 ],
 "metadata": {
  "kernelspec": {
   "display_name": "Python 2",
   "language": "python",
   "name": "python2"
  },
  "language_info": {
   "codemirror_mode": {
    "name": "ipython",
    "version": 2
   },
   "file_extension": ".py",
   "mimetype": "text/x-python",
   "name": "python",
   "nbconvert_exporter": "python",
   "pygments_lexer": "ipython2",
   "version": "2.7.14"
  }
 },
 "nbformat": 4,
 "nbformat_minor": 2
}
