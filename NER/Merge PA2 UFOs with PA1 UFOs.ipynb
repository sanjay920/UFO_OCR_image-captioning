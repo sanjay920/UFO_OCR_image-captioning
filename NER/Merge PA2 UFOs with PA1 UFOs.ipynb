{
 "cells": [
  {
   "cell_type": "code",
   "execution_count": 35,
   "metadata": {
    "collapsed": true
   },
   "outputs": [],
   "source": [
    "import pandas as pd"
   ]
  },
  {
   "cell_type": "code",
   "execution_count": 36,
   "metadata": {
    "collapsed": true
   },
   "outputs": [],
   "source": [
    "import sys\n",
    "stdout = sys.stdout\n",
    "reload(sys)\n",
    "sys.setdefaultencoding('utf-8')\n",
    "sys.stdout = stdout"
   ]
  },
  {
   "cell_type": "code",
   "execution_count": 37,
   "metadata": {
    "collapsed": true
   },
   "outputs": [],
   "source": [
    "pa1_df = pd.read_csv('../ufo_dataset_initial.csv')"
   ]
  },
  {
   "cell_type": "code",
   "execution_count": 38,
   "metadata": {},
   "outputs": [
    {
     "data": {
      "text/plain": [
       "38439"
      ]
     },
     "execution_count": 38,
     "metadata": {},
     "output_type": "execute_result"
    }
   ],
   "source": [
    "len(pa1_df)"
   ]
  },
  {
   "cell_type": "code",
   "execution_count": 39,
   "metadata": {},
   "outputs": [
    {
     "data": {
      "text/plain": [
       "['id',\n",
       " 'description',\n",
       " 'duration',\n",
       " 'location',\n",
       " 'reported_at',\n",
       " 'shape',\n",
       " 'sighted_at',\n",
       " 'geocoded_latitude',\n",
       " 'geocoded_longitude',\n",
       " 'city',\n",
       " 'state',\n",
       " 'country',\n",
       " 'closest_LARGE_airport_distance',\n",
       " 'closest_MEDIUM_airport_distance',\n",
       " 'closest_SMALL_airport_distance',\n",
       " 'closest_metro_distance',\n",
       " 'closest_metro_pop',\n",
       " 'closest_metro_m4',\n",
       " 'closest_metro_m6',\n",
       " 'population',\n",
       " 'meteor_sighting']"
      ]
     },
     "execution_count": 39,
     "metadata": {},
     "output_type": "execute_result"
    }
   ],
   "source": [
    "[str(x) for x in pa1_df.columns]"
   ]
  },
  {
   "cell_type": "code",
   "execution_count": 40,
   "metadata": {
    "collapsed": true
   },
   "outputs": [],
   "source": [
    "pa2_df = pd.read_csv('PA2_UFO_sightings.csv')"
   ]
  },
  {
   "cell_type": "code",
   "execution_count": 41,
   "metadata": {},
   "outputs": [
    {
     "data": {
      "text/plain": [
       "['id',\n",
       " 'text',\n",
       " 'location',\n",
       " 'lat',\n",
       " 'lon',\n",
       " 'named_entities',\n",
       " 'date',\n",
       " 'reported_at',\n",
       " 'sighted_at',\n",
       " 'description',\n",
       " 'duration',\n",
       " 'Country',\n",
       " 'URL',\n",
       " 'Captions',\n",
       " 'Class',\n",
       " 'Class_1',\n",
       " 'Class_2',\n",
       " 'Class_3',\n",
       " 'Class_4',\n",
       " 'Class_5',\n",
       " 'Class_6',\n",
       " 'Class_7',\n",
       " 'shape']"
      ]
     },
     "execution_count": 41,
     "metadata": {},
     "output_type": "execute_result"
    }
   ],
   "source": [
    "[str(x) for x in pa2_df.columns]"
   ]
  },
  {
   "cell_type": "code",
   "execution_count": 42,
   "metadata": {},
   "outputs": [
    {
     "data": {
      "text/plain": [
       "{'description',\n",
       " 'duration',\n",
       " 'id',\n",
       " 'location',\n",
       " 'reported_at',\n",
       " 'shape',\n",
       " 'sighted_at'}"
      ]
     },
     "execution_count": 42,
     "metadata": {},
     "output_type": "execute_result"
    }
   ],
   "source": [
    "set([str(x) for x in pa2_df.columns]).intersection(set([str(x) for x in pa1_df.columns]))"
   ]
  },
  {
   "cell_type": "code",
   "execution_count": 43,
   "metadata": {
    "collapsed": true
   },
   "outputs": [],
   "source": [
    "merged_df = pa1_df.merge(pa2_df, on=['description','duration','id','location','reported_at','shape','sighted_at'], how='outer')"
   ]
  },
  {
   "cell_type": "code",
   "execution_count": 44,
   "metadata": {},
   "outputs": [
    {
     "data": {
      "text/plain": [
       "41972"
      ]
     },
     "execution_count": 44,
     "metadata": {},
     "output_type": "execute_result"
    }
   ],
   "source": [
    "len(merged_df)"
   ]
  },
  {
   "cell_type": "code",
   "execution_count": 45,
   "metadata": {},
   "outputs": [
    {
     "data": {
      "text/plain": [
       "41972"
      ]
     },
     "execution_count": 45,
     "metadata": {},
     "output_type": "execute_result"
    }
   ],
   "source": [
    "len(pa1_df) + len(pa2_df)"
   ]
  },
  {
   "cell_type": "code",
   "execution_count": 46,
   "metadata": {},
   "outputs": [
    {
     "data": {
      "text/html": [
       "<div>\n",
       "<table border=\"1\" class=\"dataframe\">\n",
       "  <thead>\n",
       "    <tr style=\"text-align: right;\">\n",
       "      <th></th>\n",
       "      <th>id</th>\n",
       "      <th>description</th>\n",
       "      <th>duration</th>\n",
       "      <th>location</th>\n",
       "      <th>reported_at</th>\n",
       "      <th>shape</th>\n",
       "      <th>sighted_at</th>\n",
       "      <th>geocoded_latitude</th>\n",
       "      <th>geocoded_longitude</th>\n",
       "      <th>city</th>\n",
       "      <th>...</th>\n",
       "      <th>URL</th>\n",
       "      <th>Captions</th>\n",
       "      <th>Class</th>\n",
       "      <th>Class_1</th>\n",
       "      <th>Class_2</th>\n",
       "      <th>Class_3</th>\n",
       "      <th>Class_4</th>\n",
       "      <th>Class_5</th>\n",
       "      <th>Class_6</th>\n",
       "      <th>Class_7</th>\n",
       "    </tr>\n",
       "  </thead>\n",
       "  <tbody>\n",
       "    <tr>\n",
       "      <th>41365</th>\n",
       "      <td>950</td>\n",
       "      <td>Fireball moved across the sky. object looked l...</td>\n",
       "      <td>NaN</td>\n",
       "      <td>NaN</td>\n",
       "      <td>NaN</td>\n",
       "      <td>cross</td>\n",
       "      <td>NaN</td>\n",
       "      <td>NaN</td>\n",
       "      <td>NaN</td>\n",
       "      <td>NaN</td>\n",
       "      <td>...</td>\n",
       "      <td>http://www.mufoncms.com/files_jeud8334j/86242_...</td>\n",
       "      <td>a black and white photo of a clock tower .</td>\n",
       "      <td>['nematode, nematode worm, roundworm']</td>\n",
       "      <td>nematode</td>\n",
       "      <td>nematode worm</td>\n",
       "      <td>roundworm</td>\n",
       "      <td>NaN</td>\n",
       "      <td>NaN</td>\n",
       "      <td>NaN</td>\n",
       "      <td>NaN</td>\n",
       "    </tr>\n",
       "    <tr>\n",
       "      <th>9945</th>\n",
       "      <td>15212</td>\n",
       "      <td>Object seen in Pulaski, WI that changed shapes...</td>\n",
       "      <td>5 minutes</td>\n",
       "      <td>Pulaski, WI</td>\n",
       "      <td>20020409</td>\n",
       "      <td>changing</td>\n",
       "      <td>20020408</td>\n",
       "      <td>44.672216</td>\n",
       "      <td>-88.242603</td>\n",
       "      <td>Pulaski</td>\n",
       "      <td>...</td>\n",
       "      <td>NaN</td>\n",
       "      <td>NaN</td>\n",
       "      <td>NaN</td>\n",
       "      <td>NaN</td>\n",
       "      <td>NaN</td>\n",
       "      <td>NaN</td>\n",
       "      <td>NaN</td>\n",
       "      <td>NaN</td>\n",
       "      <td>NaN</td>\n",
       "      <td>NaN</td>\n",
       "    </tr>\n",
       "    <tr>\n",
       "      <th>36402</th>\n",
       "      <td>57987</td>\n",
       "      <td>I was at a park at about 1 PM. I was on the sw...</td>\n",
       "      <td>10 minuts</td>\n",
       "      <td>Louisville, CO</td>\n",
       "      <td>20100214</td>\n",
       "      <td>light</td>\n",
       "      <td>20090704</td>\n",
       "      <td>39.977763</td>\n",
       "      <td>-105.131930</td>\n",
       "      <td>Louisville</td>\n",
       "      <td>...</td>\n",
       "      <td>NaN</td>\n",
       "      <td>NaN</td>\n",
       "      <td>NaN</td>\n",
       "      <td>NaN</td>\n",
       "      <td>NaN</td>\n",
       "      <td>NaN</td>\n",
       "      <td>NaN</td>\n",
       "      <td>NaN</td>\n",
       "      <td>NaN</td>\n",
       "      <td>NaN</td>\n",
       "    </tr>\n",
       "    <tr>\n",
       "      <th>32957</th>\n",
       "      <td>52591</td>\n",
       "      <td>Observed unusual bright, red/orange light hove...</td>\n",
       "      <td>15 minutes</td>\n",
       "      <td>New Braunfels, TX</td>\n",
       "      <td>20090218</td>\n",
       "      <td>light</td>\n",
       "      <td>20090205</td>\n",
       "      <td>29.702827</td>\n",
       "      <td>-98.125735</td>\n",
       "      <td>New Braunfels</td>\n",
       "      <td>...</td>\n",
       "      <td>NaN</td>\n",
       "      <td>NaN</td>\n",
       "      <td>NaN</td>\n",
       "      <td>NaN</td>\n",
       "      <td>NaN</td>\n",
       "      <td>NaN</td>\n",
       "      <td>NaN</td>\n",
       "      <td>NaN</td>\n",
       "      <td>NaN</td>\n",
       "      <td>NaN</td>\n",
       "    </tr>\n",
       "    <tr>\n",
       "      <th>15515</th>\n",
       "      <td>24797</td>\n",
       "      <td>If anyone around us has a chance, this is happ...</td>\n",
       "      <td>of and on 4 days</td>\n",
       "      <td>Las Vegas, NV</td>\n",
       "      <td>20040318</td>\n",
       "      <td>light</td>\n",
       "      <td>20040314</td>\n",
       "      <td>36.166286</td>\n",
       "      <td>-115.149225</td>\n",
       "      <td>Las Vegas</td>\n",
       "      <td>...</td>\n",
       "      <td>NaN</td>\n",
       "      <td>NaN</td>\n",
       "      <td>NaN</td>\n",
       "      <td>NaN</td>\n",
       "      <td>NaN</td>\n",
       "      <td>NaN</td>\n",
       "      <td>NaN</td>\n",
       "      <td>NaN</td>\n",
       "      <td>NaN</td>\n",
       "      <td>NaN</td>\n",
       "    </tr>\n",
       "  </tbody>\n",
       "</table>\n",
       "<p>5 rows × 37 columns</p>\n",
       "</div>"
      ],
      "text/plain": [
       "          id                                        description  \\\n",
       "41365    950  Fireball moved across the sky. object looked l...   \n",
       "9945   15212  Object seen in Pulaski, WI that changed shapes...   \n",
       "36402  57987  I was at a park at about 1 PM. I was on the sw...   \n",
       "32957  52591  Observed unusual bright, red/orange light hove...   \n",
       "15515  24797  If anyone around us has a chance, this is happ...   \n",
       "\n",
       "               duration            location reported_at      shape sighted_at  \\\n",
       "41365               NaN                 NaN         NaN      cross        NaN   \n",
       "9945          5 minutes         Pulaski, WI    20020409   changing   20020408   \n",
       "36402         10 minuts      Louisville, CO    20100214      light   20090704   \n",
       "32957        15 minutes   New Braunfels, TX    20090218      light   20090205   \n",
       "15515  of and on 4 days       Las Vegas, NV    20040318      light   20040314   \n",
       "\n",
       "       geocoded_latitude  geocoded_longitude           city   ...     \\\n",
       "41365                NaN                 NaN            NaN   ...      \n",
       "9945           44.672216          -88.242603        Pulaski   ...      \n",
       "36402          39.977763         -105.131930     Louisville   ...      \n",
       "32957          29.702827          -98.125735  New Braunfels   ...      \n",
       "15515          36.166286         -115.149225      Las Vegas   ...      \n",
       "\n",
       "                                                     URL  \\\n",
       "41365  http://www.mufoncms.com/files_jeud8334j/86242_...   \n",
       "9945                                                 NaN   \n",
       "36402                                                NaN   \n",
       "32957                                                NaN   \n",
       "15515                                                NaN   \n",
       "\n",
       "                                         Captions  \\\n",
       "41365  a black and white photo of a clock tower .   \n",
       "9945                                          NaN   \n",
       "36402                                         NaN   \n",
       "32957                                         NaN   \n",
       "15515                                         NaN   \n",
       "\n",
       "                                        Class   Class_1         Class_2  \\\n",
       "41365  ['nematode, nematode worm, roundworm']  nematode   nematode worm   \n",
       "9945                                      NaN       NaN             NaN   \n",
       "36402                                     NaN       NaN             NaN   \n",
       "32957                                     NaN       NaN             NaN   \n",
       "15515                                     NaN       NaN             NaN   \n",
       "\n",
       "          Class_3  Class_4  Class_5  Class_6  Class_7  \n",
       "41365   roundworm      NaN      NaN      NaN      NaN  \n",
       "9945          NaN      NaN      NaN      NaN      NaN  \n",
       "36402         NaN      NaN      NaN      NaN      NaN  \n",
       "32957         NaN      NaN      NaN      NaN      NaN  \n",
       "15515         NaN      NaN      NaN      NaN      NaN  \n",
       "\n",
       "[5 rows x 37 columns]"
      ]
     },
     "execution_count": 46,
     "metadata": {},
     "output_type": "execute_result"
    }
   ],
   "source": [
    "merged_df.sample(5)"
   ]
  },
  {
   "cell_type": "code",
   "execution_count": 47,
   "metadata": {},
   "outputs": [
    {
     "data": {
      "text/plain": [
       "Index([u'id', u'description', u'duration', u'location', u'reported_at',\n",
       "       u'shape', u'sighted_at', u'geocoded_latitude', u'geocoded_longitude',\n",
       "       u'city', u'state', u'country', u'closest_LARGE_airport_distance',\n",
       "       u'closest_MEDIUM_airport_distance', u'closest_SMALL_airport_distance',\n",
       "       u'closest_metro_distance', u'closest_metro_pop', u'closest_metro_m4',\n",
       "       u'closest_metro_m6', u'population', u'meteor_sighting', u'text', u'lat',\n",
       "       u'lon', u'named_entities', u'date', u'Country', u'URL', u'Captions',\n",
       "       u'Class', u'Class_1', u'Class_2', u'Class_3', u'Class_4', u'Class_5',\n",
       "       u'Class_6', u'Class_7'],\n",
       "      dtype='object')"
      ]
     },
     "execution_count": 47,
     "metadata": {},
     "output_type": "execute_result"
    }
   ],
   "source": [
    "merged_df.columns"
   ]
  },
  {
   "cell_type": "code",
   "execution_count": 48,
   "metadata": {
    "collapsed": true
   },
   "outputs": [],
   "source": [
    "merged_df.to_csv('UFO_sightings.csv', index=False)"
   ]
  },
  {
   "cell_type": "code",
   "execution_count": 49,
   "metadata": {},
   "outputs": [
    {
     "data": {
      "text/plain": [
       "41972"
      ]
     },
     "execution_count": 49,
     "metadata": {},
     "output_type": "execute_result"
    }
   ],
   "source": [
    "len(pd.read_csv('UFO_sightings.csv'))"
   ]
  },
  {
   "cell_type": "code",
   "execution_count": 50,
   "metadata": {
    "collapsed": true
   },
   "outputs": [],
   "source": [
    "merged_df.to_csv('UFO_sightings.tsv', index=False, sep='\\t')"
   ]
  },
  {
   "cell_type": "code",
   "execution_count": null,
   "metadata": {
    "collapsed": true
   },
   "outputs": [],
   "source": []
  }
 ],
 "metadata": {
  "kernelspec": {
   "display_name": "Python 2",
   "language": "python",
   "name": "python2"
  },
  "language_info": {
   "codemirror_mode": {
    "name": "ipython",
    "version": 2
   },
   "file_extension": ".py",
   "mimetype": "text/x-python",
   "name": "python",
   "nbconvert_exporter": "python",
   "pygments_lexer": "ipython2",
   "version": "2.7.14"
  }
 },
 "nbformat": 4,
 "nbformat_minor": 2
}
