{
 "cells": [
  {
   "cell_type": "code",
   "execution_count": 18,
   "metadata": {
    "collapsed": true
   },
   "outputs": [],
   "source": [
    "import pandas as pd"
   ]
  },
  {
   "cell_type": "code",
   "execution_count": 19,
   "metadata": {
    "collapsed": true
   },
   "outputs": [],
   "source": [
    "import sys\n",
    "stdout = sys.stdout\n",
    "reload(sys)\n",
    "sys.setdefaultencoding('utf-8')\n",
    "sys.stdout = stdout"
   ]
  },
  {
   "cell_type": "code",
   "execution_count": 20,
   "metadata": {
    "collapsed": true
   },
   "outputs": [],
   "source": [
    "pa1_df = pd.read_csv('../ufo_dataset_initial.csv')"
   ]
  },
  {
   "cell_type": "code",
   "execution_count": 21,
   "metadata": {},
   "outputs": [
    {
     "data": {
      "text/plain": [
       "38439"
      ]
     },
     "execution_count": 21,
     "metadata": {},
     "output_type": "execute_result"
    }
   ],
   "source": [
    "len(pa1_df)"
   ]
  },
  {
   "cell_type": "code",
   "execution_count": 22,
   "metadata": {},
   "outputs": [
    {
     "data": {
      "text/plain": [
       "['id',\n",
       " 'description',\n",
       " 'duration',\n",
       " 'location',\n",
       " 'reported_at',\n",
       " 'shape',\n",
       " 'sighted_at',\n",
       " 'geocoded_latitude',\n",
       " 'geocoded_longitude',\n",
       " 'city',\n",
       " 'state',\n",
       " 'country',\n",
       " 'closest_LARGE_airport_distance',\n",
       " 'closest_MEDIUM_airport_distance',\n",
       " 'closest_SMALL_airport_distance',\n",
       " 'closest_metro_distance',\n",
       " 'closest_metro_pop',\n",
       " 'closest_metro_m4',\n",
       " 'closest_metro_m6',\n",
       " 'population',\n",
       " 'meteor_sighting']"
      ]
     },
     "execution_count": 22,
     "metadata": {},
     "output_type": "execute_result"
    }
   ],
   "source": [
    "[str(x) for x in pa1_df.columns]"
   ]
  },
  {
   "cell_type": "code",
   "execution_count": 23,
   "metadata": {
    "collapsed": true
   },
   "outputs": [],
   "source": [
    "pa2_df = pd.read_csv('PA2_UFO_sightings.csv')"
   ]
  },
  {
   "cell_type": "code",
   "execution_count": 24,
   "metadata": {},
   "outputs": [
    {
     "data": {
      "text/plain": [
       "['id',\n",
       " 'text',\n",
       " 'location',\n",
       " 'lat',\n",
       " 'lon',\n",
       " 'named_entities',\n",
       " 'date',\n",
       " 'reported_at',\n",
       " 'sighted_at',\n",
       " 'description',\n",
       " 'duration',\n",
       " 'Country',\n",
       " 'URL',\n",
       " 'Captions',\n",
       " 'Class',\n",
       " 'Class_1',\n",
       " 'Class_2',\n",
       " 'Class_3',\n",
       " 'Class_4',\n",
       " 'Class_5',\n",
       " 'Class_6',\n",
       " 'Class_7',\n",
       " 'shape']"
      ]
     },
     "execution_count": 24,
     "metadata": {},
     "output_type": "execute_result"
    }
   ],
   "source": [
    "[str(x) for x in pa2_df.columns]"
   ]
  },
  {
   "cell_type": "code",
   "execution_count": 25,
   "metadata": {},
   "outputs": [
    {
     "data": {
      "text/plain": [
       "{'description',\n",
       " 'duration',\n",
       " 'id',\n",
       " 'location',\n",
       " 'reported_at',\n",
       " 'shape',\n",
       " 'sighted_at'}"
      ]
     },
     "execution_count": 25,
     "metadata": {},
     "output_type": "execute_result"
    }
   ],
   "source": [
    "set([str(x) for x in pa2_df.columns]).intersection(set([str(x) for x in pa1_df.columns]))"
   ]
  },
  {
   "cell_type": "code",
   "execution_count": 26,
   "metadata": {},
   "outputs": [],
   "source": [
    "merged_df = pa1_df.merge(pa2_df, on=['description','duration','id','location','reported_at','shape','sighted_at'], how='outer')"
   ]
  },
  {
   "cell_type": "code",
   "execution_count": 27,
   "metadata": {},
   "outputs": [
    {
     "data": {
      "text/plain": [
       "41972"
      ]
     },
     "execution_count": 27,
     "metadata": {},
     "output_type": "execute_result"
    }
   ],
   "source": [
    "len(merged_df)"
   ]
  },
  {
   "cell_type": "code",
   "execution_count": 28,
   "metadata": {},
   "outputs": [
    {
     "data": {
      "text/plain": [
       "41972"
      ]
     },
     "execution_count": 28,
     "metadata": {},
     "output_type": "execute_result"
    }
   ],
   "source": [
    "len(pa1_df) + len(pa2_df)"
   ]
  },
  {
   "cell_type": "code",
   "execution_count": 29,
   "metadata": {},
   "outputs": [
    {
     "data": {
      "text/html": [
       "<div>\n",
       "<table border=\"1\" class=\"dataframe\">\n",
       "  <thead>\n",
       "    <tr style=\"text-align: right;\">\n",
       "      <th></th>\n",
       "      <th>id</th>\n",
       "      <th>description</th>\n",
       "      <th>duration</th>\n",
       "      <th>location</th>\n",
       "      <th>reported_at</th>\n",
       "      <th>shape</th>\n",
       "      <th>sighted_at</th>\n",
       "      <th>geocoded_latitude</th>\n",
       "      <th>geocoded_longitude</th>\n",
       "      <th>city</th>\n",
       "      <th>...</th>\n",
       "      <th>URL</th>\n",
       "      <th>Captions</th>\n",
       "      <th>Class</th>\n",
       "      <th>Class_1</th>\n",
       "      <th>Class_2</th>\n",
       "      <th>Class_3</th>\n",
       "      <th>Class_4</th>\n",
       "      <th>Class_5</th>\n",
       "      <th>Class_6</th>\n",
       "      <th>Class_7</th>\n",
       "    </tr>\n",
       "  </thead>\n",
       "  <tbody>\n",
       "    <tr>\n",
       "      <th>24149</th>\n",
       "      <td>38939</td>\n",
       "      <td>&amp;quot;Star&amp;quot; observed moving erratically t...</td>\n",
       "      <td>3 minutes</td>\n",
       "      <td>Rogers, MN</td>\n",
       "      <td>20060926</td>\n",
       "      <td>light</td>\n",
       "      <td>20060925</td>\n",
       "      <td>45.188853</td>\n",
       "      <td>-93.553014</td>\n",
       "      <td>Rogers</td>\n",
       "      <td>...</td>\n",
       "      <td>NaN</td>\n",
       "      <td>NaN</td>\n",
       "      <td>NaN</td>\n",
       "      <td>NaN</td>\n",
       "      <td>NaN</td>\n",
       "      <td>NaN</td>\n",
       "      <td>NaN</td>\n",
       "      <td>NaN</td>\n",
       "      <td>NaN</td>\n",
       "      <td>NaN</td>\n",
       "    </tr>\n",
       "    <tr>\n",
       "      <th>38534</th>\n",
       "      <td>0</td>\n",
       "      <td>NaN</td>\n",
       "      <td>minute</td>\n",
       "      <td>NE, Bristol Road South, Bournbrook, Birmingham...</td>\n",
       "      <td>time</td>\n",
       "      <td>light,shape,round,cross,formation</td>\n",
       "      <td>28 November 1984</td>\n",
       "      <td>NaN</td>\n",
       "      <td>NaN</td>\n",
       "      <td>NaN</td>\n",
       "      <td>...</td>\n",
       "      <td>NaN</td>\n",
       "      <td>NaN</td>\n",
       "      <td>NaN</td>\n",
       "      <td>NaN</td>\n",
       "      <td>NaN</td>\n",
       "      <td>NaN</td>\n",
       "      <td>NaN</td>\n",
       "      <td>NaN</td>\n",
       "      <td>NaN</td>\n",
       "      <td>NaN</td>\n",
       "    </tr>\n",
       "    <tr>\n",
       "      <th>28360</th>\n",
       "      <td>45604</td>\n",
       "      <td>Very bright light shooting accross sky. LARGEV...</td>\n",
       "      <td>2</td>\n",
       "      <td>Manhattan Beach, CA</td>\n",
       "      <td>20071215</td>\n",
       "      <td>fireball</td>\n",
       "      <td>20071214</td>\n",
       "      <td>33.895497</td>\n",
       "      <td>-118.400345</td>\n",
       "      <td>Manhattan Beach</td>\n",
       "      <td>...</td>\n",
       "      <td>NaN</td>\n",
       "      <td>NaN</td>\n",
       "      <td>NaN</td>\n",
       "      <td>NaN</td>\n",
       "      <td>NaN</td>\n",
       "      <td>NaN</td>\n",
       "      <td>NaN</td>\n",
       "      <td>NaN</td>\n",
       "      <td>NaN</td>\n",
       "      <td>NaN</td>\n",
       "    </tr>\n",
       "    <tr>\n",
       "      <th>22185</th>\n",
       "      <td>35658</td>\n",
       "      <td>disk shape revolving around tv towerI was abou...</td>\n",
       "      <td>1 min</td>\n",
       "      <td>Independence, MO</td>\n",
       "      <td>20051231</td>\n",
       "      <td>disk</td>\n",
       "      <td>19750901</td>\n",
       "      <td>39.091116</td>\n",
       "      <td>-94.415507</td>\n",
       "      <td>Independence</td>\n",
       "      <td>...</td>\n",
       "      <td>NaN</td>\n",
       "      <td>NaN</td>\n",
       "      <td>NaN</td>\n",
       "      <td>NaN</td>\n",
       "      <td>NaN</td>\n",
       "      <td>NaN</td>\n",
       "      <td>NaN</td>\n",
       "      <td>NaN</td>\n",
       "      <td>NaN</td>\n",
       "      <td>NaN</td>\n",
       "    </tr>\n",
       "    <tr>\n",
       "      <th>3581</th>\n",
       "      <td>4866</td>\n",
       "      <td>Hovering craft with illuminated cross in its c...</td>\n",
       "      <td>1+ hours</td>\n",
       "      <td>Oconomowoc, WI</td>\n",
       "      <td>19990701</td>\n",
       "      <td>cross</td>\n",
       "      <td>19930601</td>\n",
       "      <td>43.111673</td>\n",
       "      <td>-88.499266</td>\n",
       "      <td>Oconomowoc</td>\n",
       "      <td>...</td>\n",
       "      <td>NaN</td>\n",
       "      <td>NaN</td>\n",
       "      <td>NaN</td>\n",
       "      <td>NaN</td>\n",
       "      <td>NaN</td>\n",
       "      <td>NaN</td>\n",
       "      <td>NaN</td>\n",
       "      <td>NaN</td>\n",
       "      <td>NaN</td>\n",
       "      <td>NaN</td>\n",
       "    </tr>\n",
       "  </tbody>\n",
       "</table>\n",
       "<p>5 rows × 37 columns</p>\n",
       "</div>"
      ],
      "text/plain": [
       "          id                                        description   duration  \\\n",
       "24149  38939  &quot;Star&quot; observed moving erratically t...  3 minutes   \n",
       "38534      0                                                NaN     minute   \n",
       "28360  45604  Very bright light shooting accross sky. LARGEV...          2   \n",
       "22185  35658  disk shape revolving around tv towerI was abou...      1 min   \n",
       "3581    4866  Hovering craft with illuminated cross in its c...   1+ hours   \n",
       "\n",
       "                                                location reported_at  \\\n",
       "24149                                         Rogers, MN    20060926   \n",
       "38534  NE, Bristol Road South, Bournbrook, Birmingham...        time   \n",
       "28360                                Manhattan Beach, CA    20071215   \n",
       "22185                                   Independence, MO    20051231   \n",
       "3581                                      Oconomowoc, WI    19990701   \n",
       "\n",
       "                                   shape        sighted_at  geocoded_latitude  \\\n",
       "24149                              light          20060925          45.188853   \n",
       "38534  light,shape,round,cross,formation  28 November 1984                NaN   \n",
       "28360                           fireball          20071214          33.895497   \n",
       "22185                               disk          19750901          39.091116   \n",
       "3581                               cross          19930601          43.111673   \n",
       "\n",
       "       geocoded_longitude             city   ...     URL Captions  Class  \\\n",
       "24149          -93.553014           Rogers   ...     NaN      NaN    NaN   \n",
       "38534                 NaN              NaN   ...     NaN      NaN    NaN   \n",
       "28360         -118.400345  Manhattan Beach   ...     NaN      NaN    NaN   \n",
       "22185          -94.415507     Independence   ...     NaN      NaN    NaN   \n",
       "3581           -88.499266       Oconomowoc   ...     NaN      NaN    NaN   \n",
       "\n",
       "       Class_1  Class_2  Class_3  Class_4  Class_5  Class_6  Class_7  \n",
       "24149      NaN      NaN      NaN      NaN      NaN      NaN      NaN  \n",
       "38534      NaN      NaN      NaN      NaN      NaN      NaN      NaN  \n",
       "28360      NaN      NaN      NaN      NaN      NaN      NaN      NaN  \n",
       "22185      NaN      NaN      NaN      NaN      NaN      NaN      NaN  \n",
       "3581       NaN      NaN      NaN      NaN      NaN      NaN      NaN  \n",
       "\n",
       "[5 rows x 37 columns]"
      ]
     },
     "execution_count": 29,
     "metadata": {},
     "output_type": "execute_result"
    }
   ],
   "source": [
    "merged_df.sample(5)"
   ]
  },
  {
   "cell_type": "code",
   "execution_count": 30,
   "metadata": {},
   "outputs": [
    {
     "data": {
      "text/plain": [
       "Index([u'id', u'description', u'duration', u'location', u'reported_at',\n",
       "       u'shape', u'sighted_at', u'geocoded_latitude', u'geocoded_longitude',\n",
       "       u'city', u'state', u'country', u'closest_LARGE_airport_distance',\n",
       "       u'closest_MEDIUM_airport_distance', u'closest_SMALL_airport_distance',\n",
       "       u'closest_metro_distance', u'closest_metro_pop', u'closest_metro_m4',\n",
       "       u'closest_metro_m6', u'population', u'meteor_sighting', u'text', u'lat',\n",
       "       u'lon', u'named_entities', u'date', u'Country', u'URL', u'Captions',\n",
       "       u'Class', u'Class_1', u'Class_2', u'Class_3', u'Class_4', u'Class_5',\n",
       "       u'Class_6', u'Class_7'],\n",
       "      dtype='object')"
      ]
     },
     "execution_count": 30,
     "metadata": {},
     "output_type": "execute_result"
    }
   ],
   "source": [
    "merged_df.columns"
   ]
  },
  {
   "cell_type": "code",
   "execution_count": 32,
   "metadata": {},
   "outputs": [],
   "source": [
    "merged_df.to_csv('UFO_sightings.csv', index=False)"
   ]
  },
  {
   "cell_type": "code",
   "execution_count": 33,
   "metadata": {},
   "outputs": [
    {
     "data": {
      "text/plain": [
       "41972"
      ]
     },
     "execution_count": 33,
     "metadata": {},
     "output_type": "execute_result"
    }
   ],
   "source": [
    "len(pd.read_csv('UFO_sightings.csv'))"
   ]
  },
  {
   "cell_type": "code",
   "execution_count": 34,
   "metadata": {
    "collapsed": true
   },
   "outputs": [],
   "source": [
    "merged_df.to_csv('UFO_sightings.tsv', index=False, sep='\\t')"
   ]
  },
  {
   "cell_type": "code",
   "execution_count": null,
   "metadata": {
    "collapsed": true
   },
   "outputs": [],
   "source": []
  }
 ],
 "metadata": {
  "kernelspec": {
   "display_name": "Python 2",
   "language": "python",
   "name": "python2"
  },
  "language_info": {
   "codemirror_mode": {
    "name": "ipython",
    "version": 2
   },
   "file_extension": ".py",
   "mimetype": "text/x-python",
   "name": "python",
   "nbconvert_exporter": "python",
   "pygments_lexer": "ipython2",
   "version": "2.7.14"
  }
 },
 "nbformat": 4,
 "nbformat_minor": 2
}
