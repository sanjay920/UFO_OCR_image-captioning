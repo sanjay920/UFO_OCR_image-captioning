{
 "cells": [
  {
   "cell_type": "code",
   "execution_count": 1,
   "metadata": {
    "collapsed": true
   },
   "outputs": [],
   "source": [
    "import sys\n",
    "stdout = sys.stdout\n",
    "reload(sys)\n",
    "sys.setdefaultencoding('utf-8')\n",
    "sys.stdout = stdout"
   ]
  },
  {
   "cell_type": "code",
   "execution_count": 2,
   "metadata": {
    "collapsed": true
   },
   "outputs": [],
   "source": [
    "def get_continuous_chunks(tagged_sent):\n",
    "    continuous_chunk = []\n",
    "    current_chunk = []\n",
    "\n",
    "    for token, tag in tagged_sent:\n",
    "        if tag != \"O\":\n",
    "            current_chunk.append((token, tag))\n",
    "        else:\n",
    "            if current_chunk: # if the current chunk is not empty\n",
    "                continuous_chunk.append(current_chunk)\n",
    "                current_chunk = []\n",
    "    # Flush the final current_chunk into the continuous_chunk, if any.\n",
    "    if current_chunk:\n",
    "        continuous_chunk.append(current_chunk)\n",
    "    return continuous_chunk"
   ]
  },
  {
   "cell_type": "code",
   "execution_count": 3,
   "metadata": {
    "collapsed": true
   },
   "outputs": [],
   "source": [
    "from stanza.text.vocab import Vocab"
   ]
  },
  {
   "cell_type": "code",
   "execution_count": 4,
   "metadata": {
    "collapsed": true
   },
   "outputs": [],
   "source": [
    "from stanza.nlp.corenlp import CoreNLPClient"
   ]
  },
  {
   "cell_type": "code",
   "execution_count": 5,
   "metadata": {
    "collapsed": true
   },
   "outputs": [],
   "source": [
    "client = CoreNLPClient(server='http://localhost:9000', default_annotators=['ssplit', 'tokenize', 'lemma', 'pos', 'ner'])"
   ]
  },
  {
   "cell_type": "code",
   "execution_count": 87,
   "metadata": {
    "collapsed": true
   },
   "outputs": [],
   "source": [
    "# annotated = client.annotate('Liverpol of Receipt 171955 Local June 4 1994 Ang Unusual Meteorological Conditions Nil')\n",
    "\n",
    "annotated = client.annotate('a black and white photo of a plane flying in the sky .')"
   ]
  },
  {
   "cell_type": "code",
   "execution_count": 88,
   "metadata": {},
   "outputs": [
    {
     "data": {
      "text/plain": [
       "[[Sentence: a black and white photo of a plane flying in the s]]"
      ]
     },
     "execution_count": 88,
     "metadata": {},
     "output_type": "execute_result"
    }
   ],
   "source": [
    "annotated.sentences"
   ]
  },
  {
   "cell_type": "code",
   "execution_count": 89,
   "metadata": {},
   "outputs": [
    {
     "name": "stdout",
     "output_type": "stream",
     "text": [
      "[]\n"
     ]
    }
   ],
   "source": [
    "for sentence in annotated.sentences:\n",
    "#     print('sentence', sentence)\n",
    "    ne_tagged_sent = [(token.word, token.ner) for token in sentence]\n",
    "    named_entities = get_continuous_chunks(ne_tagged_sent)\n",
    "    named_entities = get_continuous_chunks(ne_tagged_sent)\n",
    "    named_entities_str_tag = [(\" \".join([token for token, tag in ne]), ne[0][1]) for ne in named_entities]\n",
    "    print named_entities_str_tag"
   ]
  },
  {
   "cell_type": "code",
   "execution_count": 9,
   "metadata": {},
   "outputs": [
    {
     "data": {
      "text/plain": [
       "[(u'Liverpol', u'O'),\n",
       " (u'of', u'O'),\n",
       " (u'Receipt', u'O'),\n",
       " (u'171955', u'NUMBER'),\n",
       " (u'Local', u'O'),\n",
       " (u'June', u'DATE'),\n",
       " (u'4', u'DATE'),\n",
       " (u'1994', u'DATE'),\n",
       " (u'Ang', u'O'),\n",
       " (u'Unusual', u'O'),\n",
       " (u'Meteorological', u'O'),\n",
       " (u'Conditions', u'O'),\n",
       " (u'Nil', u'O')]"
      ]
     },
     "execution_count": 9,
     "metadata": {},
     "output_type": "execute_result"
    }
   ],
   "source": [
    "[(token.word, token.ner) for token in sentence]"
   ]
  },
  {
   "cell_type": "markdown",
   "metadata": {},
   "source": [
    "-----"
   ]
  },
  {
   "cell_type": "code",
   "execution_count": 11,
   "metadata": {
    "collapsed": true
   },
   "outputs": [],
   "source": [
    "import pandas as pd\n",
    "import pickle\n",
    "import math\n",
    "import time\n",
    "from dateutil.parser import parse\n",
    "from geopy.geocoders import Nominatim\n",
    "from datetime import datetime\n",
    "geolocator = Nominatim()"
   ]
  },
  {
   "cell_type": "code",
   "execution_count": 12,
   "metadata": {
    "collapsed": true
   },
   "outputs": [],
   "source": [
    "def is_date(string):\n",
    "    try: \n",
    "        parse(string)\n",
    "        if string.isdigit():\n",
    "            return False\n",
    "        return True\n",
    "    except ValueError:\n",
    "        return False"
   ]
  },
  {
   "cell_type": "code",
   "execution_count": 11,
   "metadata": {},
   "outputs": [
    {
     "data": {
      "text/plain": [
       "True"
      ]
     },
     "execution_count": 11,
     "metadata": {},
     "output_type": "execute_result"
    }
   ],
   "source": [
    "is_date(\"1990-12-1\")"
   ]
  },
  {
   "cell_type": "code",
   "execution_count": 12,
   "metadata": {},
   "outputs": [
    {
     "data": {
      "text/plain": [
       "(True, False)"
      ]
     },
     "execution_count": 12,
     "metadata": {},
     "output_type": "execute_result"
    }
   ],
   "source": [
    "is_date(\"Jan\"), is_date('15')"
   ]
  },
  {
   "cell_type": "code",
   "execution_count": 13,
   "metadata": {
    "collapsed": true
   },
   "outputs": [],
   "source": [
    "location = geolocator.geocode(\"RAF United Kingdom\")"
   ]
  },
  {
   "cell_type": "code",
   "execution_count": 14,
   "metadata": {},
   "outputs": [
    {
     "data": {
      "text/plain": [
       "(55.9515812, -3.3469413)"
      ]
     },
     "execution_count": 14,
     "metadata": {},
     "output_type": "execute_result"
    }
   ],
   "source": [
    "location.latitude, location.longitude"
   ]
  },
  {
   "cell_type": "code",
   "execution_count": 15,
   "metadata": {},
   "outputs": [
    {
     "data": {
      "text/plain": [
       "u'RAF, Turnhouse Road, Dolphington Cottages, Ingliston, City of Edinburgh, Scotland, EH12 0AW, UK'"
      ]
     },
     "execution_count": 15,
     "metadata": {},
     "output_type": "execute_result"
    }
   ],
   "source": [
    "location.address"
   ]
  },
  {
   "cell_type": "code",
   "execution_count": 199,
   "metadata": {
    "collapsed": true
   },
   "outputs": [],
   "source": [
    "df = pd.read_csv('ufo_hw2_update.csv')"
   ]
  },
  {
   "cell_type": "code",
   "execution_count": 200,
   "metadata": {},
   "outputs": [
    {
     "data": {
      "text/plain": [
       "3533"
      ]
     },
     "execution_count": 200,
     "metadata": {},
     "output_type": "execute_result"
    }
   ],
   "source": [
    "len(df)"
   ]
  },
  {
   "cell_type": "code",
   "execution_count": 17,
   "metadata": {},
   "outputs": [
    {
     "data": {
      "text/html": [
       "<div>\n",
       "<table border=\"1\" class=\"dataframe\">\n",
       "  <thead>\n",
       "    <tr style=\"text-align: right;\">\n",
       "      <th></th>\n",
       "      <th>Captions</th>\n",
       "      <th>Class</th>\n",
       "      <th>Class_1</th>\n",
       "      <th>Class_2</th>\n",
       "      <th>Class_3</th>\n",
       "      <th>Class_4</th>\n",
       "      <th>Class_5</th>\n",
       "      <th>Class_6</th>\n",
       "      <th>Class_7</th>\n",
       "      <th>Id</th>\n",
       "      <th>URL</th>\n",
       "      <th>id</th>\n",
       "      <th>text</th>\n",
       "    </tr>\n",
       "  </thead>\n",
       "  <tbody>\n",
       "    <tr>\n",
       "      <th>0</th>\n",
       "      <td>NaN</td>\n",
       "      <td>NaN</td>\n",
       "      <td>NaN</td>\n",
       "      <td>NaN</td>\n",
       "      <td>NaN</td>\n",
       "      <td>NaN</td>\n",
       "      <td>NaN</td>\n",
       "      <td>NaN</td>\n",
       "      <td>NaN</td>\n",
       "      <td>NaN</td>\n",
       "      <td>NaN</td>\n",
       "      <td>DEFE-24-1922_29</td>\n",
       "      <td>K. NEARBY OBJECTS\\n(Telephone lines, high volt...</td>\n",
       "    </tr>\n",
       "    <tr>\n",
       "      <th>1</th>\n",
       "      <td>NaN</td>\n",
       "      <td>NaN</td>\n",
       "      <td>NaN</td>\n",
       "      <td>NaN</td>\n",
       "      <td>NaN</td>\n",
       "      <td>NaN</td>\n",
       "      <td>NaN</td>\n",
       "      <td>NaN</td>\n",
       "      <td>NaN</td>\n",
       "      <td>NaN</td>\n",
       "      <td>NaN</td>\n",
       "      <td>DEFE-24-1922_15</td>\n",
       "      <td>REPORT OF AN UNIDENTIFIED FLYING OBJECT\\n\\n \\n...</td>\n",
       "    </tr>\n",
       "    <tr>\n",
       "      <th>2</th>\n",
       "      <td>NaN</td>\n",
       "      <td>NaN</td>\n",
       "      <td>NaN</td>\n",
       "      <td>NaN</td>\n",
       "      <td>NaN</td>\n",
       "      <td>NaN</td>\n",
       "      <td>NaN</td>\n",
       "      <td>NaN</td>\n",
       "      <td>NaN</td>\n",
       "      <td>NaN</td>\n",
       "      <td>NaN</td>\n",
       "      <td>DEFE-24-1922_114</td>\n",
       "      <td>K. m:nm OBJECTS - lewga 7 ( ' ‘\\n(Telephone li...</td>\n",
       "    </tr>\n",
       "    <tr>\n",
       "      <th>3</th>\n",
       "      <td>NaN</td>\n",
       "      <td>NaN</td>\n",
       "      <td>NaN</td>\n",
       "      <td>NaN</td>\n",
       "      <td>NaN</td>\n",
       "      <td>NaN</td>\n",
       "      <td>NaN</td>\n",
       "      <td>NaN</td>\n",
       "      <td>NaN</td>\n",
       "      <td>NaN</td>\n",
       "      <td>NaN</td>\n",
       "      <td>DEFE-24-1922_100</td>\n",
       "      <td>Reply To:\\n\\nr.\\n\\n \\n \\n \\n \\n \\n\\n\\( .\\n\\nYo...</td>\n",
       "    </tr>\n",
       "  </tbody>\n",
       "</table>\n",
       "</div>"
      ],
      "text/plain": [
       "  Captions Class Class_1 Class_2 Class_3 Class_4 Class_5 Class_6 Class_7  Id  \\\n",
       "0      NaN   NaN     NaN     NaN     NaN     NaN     NaN     NaN     NaN NaN   \n",
       "1      NaN   NaN     NaN     NaN     NaN     NaN     NaN     NaN     NaN NaN   \n",
       "2      NaN   NaN     NaN     NaN     NaN     NaN     NaN     NaN     NaN NaN   \n",
       "3      NaN   NaN     NaN     NaN     NaN     NaN     NaN     NaN     NaN NaN   \n",
       "\n",
       "   URL                id                                               text  \n",
       "0  NaN   DEFE-24-1922_29  K. NEARBY OBJECTS\\n(Telephone lines, high volt...  \n",
       "1  NaN   DEFE-24-1922_15  REPORT OF AN UNIDENTIFIED FLYING OBJECT\\n\\n \\n...  \n",
       "2  NaN  DEFE-24-1922_114  K. m:nm OBJECTS - lewga 7 ( ' ‘\\n(Telephone li...  \n",
       "3  NaN  DEFE-24-1922_100  Reply To:\\n\\nr.\\n\\n \\n \\n \\n \\n \\n\\n\\( .\\n\\nYo...  "
      ]
     },
     "execution_count": 17,
     "metadata": {},
     "output_type": "execute_result"
    }
   ],
   "source": [
    "df.head(4)"
   ]
  },
  {
   "cell_type": "code",
   "execution_count": 18,
   "metadata": {
    "collapsed": true
   },
   "outputs": [],
   "source": [
    "df['location'] = ''\n",
    "df['date'] = ''\n",
    "df['lat'] = ''\n",
    "df['lon'] = ''\n",
    "df['named_entities'] = ''"
   ]
  },
  {
   "cell_type": "code",
   "execution_count": null,
   "metadata": {},
   "outputs": [],
   "source": [
    "master_dict = {}\n",
    "errors_ids = []\n",
    "for index, row in df.iterrows():\n",
    "    try:\n",
    "        # skip image entries for now...\n",
    "        if 'DEFE' not in str(row['id']):\n",
    "            continue\n",
    "\n",
    "        text = row['text']\n",
    "        annotated = client.annotate(str(text))\n",
    "        print index\n",
    "        ners = []\n",
    "        for sentence in annotated.sentences:\n",
    "    #     print('sentence', sentence)\n",
    "            ne_tagged_sent = [(token.word, token.ner) for token in sentence]\n",
    "            named_entities = get_continuous_chunks(ne_tagged_sent)\n",
    "            named_entities = get_continuous_chunks(ne_tagged_sent)\n",
    "            named_entities_str_tag = [(\" \".join([token for token, tag in ne]), ne[0][1]) for ne in named_entities]\n",
    "            ners.extend(named_entities_str_tag)\n",
    "        ners = [tuple(reversed(x)) for x in ners]\n",
    "        master_dict[row['id']] = ners\n",
    "        row_location = ''\n",
    "        row_lat = ''\n",
    "        row_lon = ''\n",
    "        for nr in ners:\n",
    "            if nr[0] == 'LOCATION':\n",
    "                location = geolocator.geocode(nr[1] + \" United Kingdom\")\n",
    "                if location:\n",
    "                    if 'UK' in location.address:\n",
    "                        row_location = location\n",
    "                        row_lat = location.latitude\n",
    "                        row_lon = location.longitude\n",
    "                        df.loc[index, 'location'] = location.address\n",
    "                        df.loc[index, 'lat'] = row_lat\n",
    "                        df.loc[index, 'lon'] = row_lon\n",
    "                        break\n",
    "\n",
    "        time.sleep(6.5)\n",
    "        # if we cant get location NE, try to get from organization\n",
    "        if row_location == '':\n",
    "            for nr in ners:\n",
    "                if nr[0] == 'ORGANIZATION':\n",
    "                    location = geolocator.geocode(nr[1] + \" United Kingdom\")\n",
    "                    if location:\n",
    "                        if 'UK' in location.address:\n",
    "                            row_location = location\n",
    "                            row_lat = location.latitude\n",
    "                            row_lon = location.longitude\n",
    "                            df.loc[index, 'location'] = location.address\n",
    "                            df.loc[index, 'lat'] = row_lat\n",
    "                            df.loc[index, 'lon'] = row_lon\n",
    "                            break\n",
    "        row_date = ''\n",
    "        for nr in ners:\n",
    "            if nr[0] == 'DATE':\n",
    "                if is_date(nr[1]):\n",
    "                    if is_date(row_date+nr[1]):\n",
    "                        row_date += nr[1]\n",
    "\n",
    "\n",
    "        df.loc[index, 'date'] = row_date\n",
    "        df.loc[index, 'named_entities'] = str(ners)\n",
    "    #     if index == 1:\n",
    "    #         break\n",
    "    except:\n",
    "        errors_ids.append(index)\n",
    "filename = str(datetime.now()) + \".pickle\"\n",
    "filename_df = str(datetime.now()) + \"_df.pickle\"\n",
    "with open(filename.replace(\" \", \"-\").replace(\"/\",\"-\"), 'wb') as handle:\n",
    "    pickle.dump(master_dict, handle, protocol=pickle.HIGHEST_PROTOCOL)\n",
    "with open(filename_df.replace(\" \", \"-\").replace(\"/\",\"-\"), 'wb') as handle:\n",
    "    pickle.dump(df, handle, protocol=pickle.HIGHEST_PROTOCOL)"
   ]
  },
  {
   "cell_type": "code",
   "execution_count": null,
   "metadata": {
    "collapsed": true
   },
   "outputs": [],
   "source": [
    "# with open('filename.pickle', 'rb') as handle:\n",
    "#     master_dict = pickle.load(handle)"
   ]
  },
  {
   "cell_type": "code",
   "execution_count": 21,
   "metadata": {},
   "outputs": [
    {
     "data": {
      "text/plain": [
       "1976"
      ]
     },
     "execution_count": 21,
     "metadata": {},
     "output_type": "execute_result"
    }
   ],
   "source": [
    "len(master_dict)"
   ]
  },
  {
   "cell_type": "code",
   "execution_count": 27,
   "metadata": {
    "collapsed": true
   },
   "outputs": [],
   "source": [
    "header = ['id','location','lat','lon','DATE', 'text', 'named_entities']"
   ]
  },
  {
   "cell_type": "code",
   "execution_count": 28,
   "metadata": {},
   "outputs": [],
   "source": [
    "df.to_csv('pdfs_with_ner.csv', index=False, columns=header)"
   ]
  },
  {
   "cell_type": "markdown",
   "metadata": {},
   "source": [
    "-----"
   ]
  },
  {
   "cell_type": "code",
   "execution_count": 99,
   "metadata": {
    "collapsed": true
   },
   "outputs": [],
   "source": [
    "from nltk.tag import StanfordNERTagger\n",
    "from nltk.tokenize import word_tokenize\n",
    "from nltk import pos_tag\n",
    "from nltk.chunk import conlltags2tree\n",
    "from nltk.tree import Tree"
   ]
  },
  {
   "cell_type": "code",
   "execution_count": 33,
   "metadata": {
    "collapsed": true
   },
   "outputs": [],
   "source": [
    "st = StanfordNERTagger('/Users/sanjay/Downloads/stanford-ner-2018-02-27/classifiers/english.conll.4class.distsim.crf.ser.gz', '/Users/sanjay/Downloads/stanford-ner-2018-02-27/stanford-ner.jar')"
   ]
  },
  {
   "cell_type": "code",
   "execution_count": 63,
   "metadata": {
    "collapsed": true
   },
   "outputs": [],
   "source": [
    "# text = open('/Users/sanjay/Desktop/Masters/SPRING18/CS599/UFO_ocr_image-captioning_enrichment/british-ufo-files/DEFE-31-175/outtxt/10.txt','r') .read()\n",
    "text = 'It took 50 seconds'"
   ]
  },
  {
   "cell_type": "code",
   "execution_count": 39,
   "metadata": {
    "collapsed": true
   },
   "outputs": [],
   "source": [
    "tokenized_text = word_tokenize(text)\n",
    "ne_tagged_sent = st.tag(tokenized_text)"
   ]
  },
  {
   "cell_type": "code",
   "execution_count": 40,
   "metadata": {},
   "outputs": [
    {
     "data": {
      "text/plain": [
       "['It', 'took', '50', 'seconds']"
      ]
     },
     "execution_count": 40,
     "metadata": {},
     "output_type": "execute_result"
    }
   ],
   "source": [
    "tokenized_text"
   ]
  },
  {
   "cell_type": "code",
   "execution_count": 41,
   "metadata": {},
   "outputs": [
    {
     "data": {
      "text/plain": [
       "[(u'It', u'O'), (u'took', u'O'), (u'50', u'O'), (u'seconds', u'O')]"
      ]
     },
     "execution_count": 41,
     "metadata": {},
     "output_type": "execute_result"
    }
   ],
   "source": [
    "ne_tagged_sent"
   ]
  },
  {
   "cell_type": "code",
   "execution_count": 64,
   "metadata": {
    "collapsed": true
   },
   "outputs": [],
   "source": [
    "annotated = client.annotate(text)"
   ]
  },
  {
   "cell_type": "code",
   "execution_count": 65,
   "metadata": {},
   "outputs": [
    {
     "data": {
      "text/plain": [
       "[[Sentence: It took 50 seconds]]"
      ]
     },
     "execution_count": 65,
     "metadata": {},
     "output_type": "execute_result"
    }
   ],
   "source": [
    "annotated.sentences"
   ]
  },
  {
   "cell_type": "code",
   "execution_count": 66,
   "metadata": {},
   "outputs": [],
   "source": [
    "for sentence in annotated.sentences:\n",
    "    print('sentence', sentence)\n",
    "    for token in sentence:\n",
    "        print(token.word, token.lemma, token.pos, token.ner)"
   ]
  },
  {
   "cell_type": "code",
   "execution_count": 68,
   "metadata": {},
   "outputs": [],
   "source": [
    "sentence = annotated.sentences[0]"
   ]
  },
  {
   "cell_type": "code",
   "execution_count": 69,
   "metadata": {},
   "outputs": [
    {
     "data": {
      "text/plain": [
       "[Sentence: It took 50 seconds]"
      ]
     },
     "execution_count": 69,
     "metadata": {},
     "output_type": "execute_result"
    }
   ],
   "source": [
    "sentence"
   ]
  },
  {
   "cell_type": "code",
   "execution_count": 71,
   "metadata": {},
   "outputs": [],
   "source": [
    "for token in sentence:\n",
    "    print(token.word, token.lemma, token.pos, token.ner)"
   ]
  },
  {
   "cell_type": "code",
   "execution_count": 74,
   "metadata": {},
   "outputs": [
    {
     "data": {
      "text/plain": [
       "[Sentence: It took 50 seconds]"
      ]
     },
     "execution_count": 74,
     "metadata": {},
     "output_type": "execute_result"
    }
   ],
   "source": [
    "sentence"
   ]
  },
  {
   "cell_type": "code",
   "execution_count": 78,
   "metadata": {},
   "outputs": [
    {
     "data": {
      "text/plain": [
       "u'O'"
      ]
     },
     "execution_count": 78,
     "metadata": {},
     "output_type": "execute_result"
    }
   ],
   "source": [
    "sentence[1].ner"
   ]
  },
  {
   "cell_type": "markdown",
   "metadata": {},
   "source": [
    "----"
   ]
  },
  {
   "cell_type": "markdown",
   "metadata": {},
   "source": [
    "#### Add duration to csv"
   ]
  },
  {
   "cell_type": "code",
   "execution_count": 160,
   "metadata": {},
   "outputs": [],
   "source": [
    "df = pd.read_csv('pdfs_with_ner.csv')\n",
    "df['duration'] = ''"
   ]
  },
  {
   "cell_type": "code",
   "execution_count": 161,
   "metadata": {},
   "outputs": [],
   "source": [
    "# make sure you're opening up the pickled master_dict from the previous section\n",
    "with open('2018-04-1211-04-33.411746.pickle', 'rb') as handle:\n",
    "    master_dict = pickle.load(handle)"
   ]
  },
  {
   "cell_type": "code",
   "execution_count": 162,
   "metadata": {},
   "outputs": [],
   "source": [
    "for index, row in df.iterrows():\n",
    "    if 'DEFE' not in str(row['id']):\n",
    "        continue\n",
    "\n",
    "    ners = master_dict[row['id']]\n",
    "    ners_dict = dict(ners)\n",
    "    if 'DURATION' in ners_dict:\n",
    "#         print ners_dict['DURATION']\n",
    "        df.loc[index, 'duration'] = ners_dict['DURATION']\n",
    "        continue\n",
    "df.columns = df.columns.str.strip()"
   ]
  },
  {
   "cell_type": "code",
   "execution_count": 163,
   "metadata": {},
   "outputs": [],
   "source": [
    "df.to_csv('pdfs_with_ner_duration.csv',index=False)"
   ]
  },
  {
   "cell_type": "code",
   "execution_count": 164,
   "metadata": {},
   "outputs": [
    {
     "data": {
      "text/html": [
       "<div>\n",
       "<table border=\"1\" class=\"dataframe\">\n",
       "  <thead>\n",
       "    <tr style=\"text-align: right;\">\n",
       "      <th></th>\n",
       "      <th>id</th>\n",
       "      <th>location</th>\n",
       "      <th>lat</th>\n",
       "      <th>lon</th>\n",
       "      <th>date</th>\n",
       "      <th>text</th>\n",
       "      <th>named_entities</th>\n",
       "      <th>duration</th>\n",
       "    </tr>\n",
       "  </thead>\n",
       "  <tbody>\n",
       "    <tr>\n",
       "      <th>0</th>\n",
       "      <td>DEFE-24-1922_29</td>\n",
       "      <td>RAF, Turnhouse Road, Dolphington Cottages, Ing...</td>\n",
       "      <td>55.951581</td>\n",
       "      <td>-3.346941</td>\n",
       "      <td>MAY</td>\n",
       "      <td>K. NEARBY OBJECTS\\r(Telephone lines, high volt...</td>\n",
       "      <td>[(u'TITLE', u'river'), (u'CAUSE_OF_DEATH', u'f...</td>\n",
       "      <td></td>\n",
       "    </tr>\n",
       "    <tr>\n",
       "      <th>1</th>\n",
       "      <td>DEFE-24-1922_15</td>\n",
       "      <td>Time, Telegraph Road, Woodchurch, Wirral, Nort...</td>\n",
       "      <td>53.328708</td>\n",
       "      <td>-3.100154</td>\n",
       "      <td>NaN</td>\n",
       "      <td>REPORT OF AN UNIDENTIFIED FLYING OBJECT\\r\\r \\r...</td>\n",
       "      <td>[(u'ORGANIZATION', u'Time'), (u'NUMBER', u'27,...</td>\n",
       "      <td></td>\n",
       "    </tr>\n",
       "  </tbody>\n",
       "</table>\n",
       "</div>"
      ],
      "text/plain": [
       "                id                                           location  \\\n",
       "0  DEFE-24-1922_29  RAF, Turnhouse Road, Dolphington Cottages, Ing...   \n",
       "1  DEFE-24-1922_15  Time, Telegraph Road, Woodchurch, Wirral, Nort...   \n",
       "\n",
       "         lat       lon date  \\\n",
       "0  55.951581 -3.346941  MAY   \n",
       "1  53.328708 -3.100154  NaN   \n",
       "\n",
       "                                                text  \\\n",
       "0  K. NEARBY OBJECTS\\r(Telephone lines, high volt...   \n",
       "1  REPORT OF AN UNIDENTIFIED FLYING OBJECT\\r\\r \\r...   \n",
       "\n",
       "                                      named_entities duration  \n",
       "0  [(u'TITLE', u'river'), (u'CAUSE_OF_DEATH', u'f...           \n",
       "1  [(u'ORGANIZATION', u'Time'), (u'NUMBER', u'27,...           "
      ]
     },
     "execution_count": 164,
     "metadata": {},
     "output_type": "execute_result"
    }
   ],
   "source": [
    "df.head(2)"
   ]
  },
  {
   "cell_type": "markdown",
   "metadata": {},
   "source": [
    "----"
   ]
  },
  {
   "cell_type": "markdown",
   "metadata": {},
   "source": [
    "#### Merge captioned images dataset with corresponding lat/lon/summary"
   ]
  },
  {
   "cell_type": "code",
   "execution_count": 179,
   "metadata": {},
   "outputs": [],
   "source": [
    "# images_df = pd.read_csv('ufo_stalker_urls_v5.csv')\n",
    "images_df = pd.read_csv('captions_classes_with_summary.csv')\n",
    "\n",
    "images_df = images_df[['URL', 'lat', 'lon', 'Country', 'Summary']]"
   ]
  },
  {
   "cell_type": "code",
   "execution_count": 180,
   "metadata": {},
   "outputs": [
    {
     "data": {
      "text/html": [
       "<div>\n",
       "<table border=\"1\" class=\"dataframe\">\n",
       "  <thead>\n",
       "    <tr style=\"text-align: right;\">\n",
       "      <th></th>\n",
       "      <th>URL</th>\n",
       "      <th>lat</th>\n",
       "      <th>lon</th>\n",
       "      <th>Country</th>\n",
       "      <th>Summary</th>\n",
       "    </tr>\n",
       "  </thead>\n",
       "  <tbody>\n",
       "    <tr>\n",
       "      <th>0</th>\n",
       "      <td>http://www.mufoncms.com/files_jeud8334j/91189_...</td>\n",
       "      <td>39.699956</td>\n",
       "      <td>-105.4162</td>\n",
       "      <td>United States</td>\n",
       "      <td>Caught in a photo of the full moon.  i could n...</td>\n",
       "    </tr>\n",
       "    <tr>\n",
       "      <th>1</th>\n",
       "      <td>http://www.mufoncms.com/files_jeud8334j/91189_...</td>\n",
       "      <td>39.699956</td>\n",
       "      <td>-105.4162</td>\n",
       "      <td>United States</td>\n",
       "      <td>Caught in a photo of the full moon.  i could n...</td>\n",
       "    </tr>\n",
       "    <tr>\n",
       "      <th>2</th>\n",
       "      <td>http://www.mufoncms.com/files_jeud8334j/91189_...</td>\n",
       "      <td>39.699956</td>\n",
       "      <td>-105.4162</td>\n",
       "      <td>United States</td>\n",
       "      <td>Caught in a photo of the full moon.  i could n...</td>\n",
       "    </tr>\n",
       "  </tbody>\n",
       "</table>\n",
       "</div>"
      ],
      "text/plain": [
       "                                                 URL        lat       lon  \\\n",
       "0  http://www.mufoncms.com/files_jeud8334j/91189_...  39.699956 -105.4162   \n",
       "1  http://www.mufoncms.com/files_jeud8334j/91189_...  39.699956 -105.4162   \n",
       "2  http://www.mufoncms.com/files_jeud8334j/91189_...  39.699956 -105.4162   \n",
       "\n",
       "         Country                                            Summary  \n",
       "0  United States  Caught in a photo of the full moon.  i could n...  \n",
       "1  United States  Caught in a photo of the full moon.  i could n...  \n",
       "2  United States  Caught in a photo of the full moon.  i could n...  "
      ]
     },
     "execution_count": 180,
     "metadata": {},
     "output_type": "execute_result"
    }
   ],
   "source": [
    "images_df.head(3)"
   ]
  },
  {
   "cell_type": "code",
   "execution_count": 181,
   "metadata": {},
   "outputs": [],
   "source": [
    "images_df = images_df.rename(index=str, columns={'Summary': 'description'})"
   ]
  },
  {
   "cell_type": "code",
   "execution_count": 182,
   "metadata": {
    "collapsed": true
   },
   "outputs": [],
   "source": [
    "# the captioned images file\n",
    "captioned_images_df = pd.read_csv('data_set_v2_caption.csv')"
   ]
  },
  {
   "cell_type": "code",
   "execution_count": 183,
   "metadata": {},
   "outputs": [
    {
     "data": {
      "text/html": [
       "<div>\n",
       "<table border=\"1\" class=\"dataframe\">\n",
       "  <thead>\n",
       "    <tr style=\"text-align: right;\">\n",
       "      <th></th>\n",
       "      <th>Captions</th>\n",
       "      <th>Case_ID</th>\n",
       "      <th>Class</th>\n",
       "      <th>URL</th>\n",
       "    </tr>\n",
       "  </thead>\n",
       "  <tbody>\n",
       "    <tr>\n",
       "      <th>0</th>\n",
       "      <td>a black and white photo of a plane flying in t...</td>\n",
       "      <td>4023</td>\n",
       "      <td>['parachute, chute']</td>\n",
       "      <td>http://localhost:8764/inception/v3/caption/ima...</td>\n",
       "    </tr>\n",
       "    <tr>\n",
       "      <th>1</th>\n",
       "      <td>a view of a city street from the side of the r...</td>\n",
       "      <td>4783</td>\n",
       "      <td>['balloon']</td>\n",
       "      <td>http://localhost:8764/inception/v3/caption/ima...</td>\n",
       "    </tr>\n",
       "    <tr>\n",
       "      <th>2</th>\n",
       "      <td>a red fire hydrant sitting in the middle of a ...</td>\n",
       "      <td>4783</td>\n",
       "      <td>['window screen']</td>\n",
       "      <td>http://localhost:8764/inception/v3/caption/ima...</td>\n",
       "    </tr>\n",
       "    <tr>\n",
       "      <th>3</th>\n",
       "      <td>a plane flying over a large body of water .</td>\n",
       "      <td>4783</td>\n",
       "      <td>['beacon, lighthouse, beacon light, pharos']</td>\n",
       "      <td>http://localhost:8764/inception/v3/caption/ima...</td>\n",
       "    </tr>\n",
       "    <tr>\n",
       "      <th>4</th>\n",
       "      <td>a collage of photos with a person holding a fr...</td>\n",
       "      <td>4028</td>\n",
       "      <td>['web site, website, internet site, site']</td>\n",
       "      <td>http://localhost:8764/inception/v3/caption/ima...</td>\n",
       "    </tr>\n",
       "  </tbody>\n",
       "</table>\n",
       "</div>"
      ],
      "text/plain": [
       "                                            Captions  Case_ID  \\\n",
       "0  a black and white photo of a plane flying in t...     4023   \n",
       "1  a view of a city street from the side of the r...     4783   \n",
       "2  a red fire hydrant sitting in the middle of a ...     4783   \n",
       "3        a plane flying over a large body of water .     4783   \n",
       "4  a collage of photos with a person holding a fr...     4028   \n",
       "\n",
       "                                          Class  \\\n",
       "0                          ['parachute, chute']   \n",
       "1                                   ['balloon']   \n",
       "2                             ['window screen']   \n",
       "3  ['beacon, lighthouse, beacon light, pharos']   \n",
       "4    ['web site, website, internet site, site']   \n",
       "\n",
       "                                                 URL  \n",
       "0  http://localhost:8764/inception/v3/caption/ima...  \n",
       "1  http://localhost:8764/inception/v3/caption/ima...  \n",
       "2  http://localhost:8764/inception/v3/caption/ima...  \n",
       "3  http://localhost:8764/inception/v3/caption/ima...  \n",
       "4  http://localhost:8764/inception/v3/caption/ima...  "
      ]
     },
     "execution_count": 183,
     "metadata": {},
     "output_type": "execute_result"
    }
   ],
   "source": [
    "captioned_images_df.head()"
   ]
  },
  {
   "cell_type": "code",
   "execution_count": 184,
   "metadata": {},
   "outputs": [],
   "source": [
    "# get rid of http://localhost: ....\n",
    "for index,row in captioned_images_df.iterrows():\n",
    "    url = row['URL'].split(\"http://localhost:8764/inception/v3/caption/image?url=\",1)[1]\n",
    "    captioned_images_df.loc[index, 'URL'] = url"
   ]
  },
  {
   "cell_type": "code",
   "execution_count": 188,
   "metadata": {},
   "outputs": [
    {
     "data": {
      "text/plain": [
       "751"
      ]
     },
     "execution_count": 188,
     "metadata": {},
     "output_type": "execute_result"
    }
   ],
   "source": [
    "len(captioned_images_df.merge(images_df, on='URL', how='left'))"
   ]
  },
  {
   "cell_type": "code",
   "execution_count": 189,
   "metadata": {},
   "outputs": [
    {
     "data": {
      "text/plain": [
       "751"
      ]
     },
     "execution_count": 189,
     "metadata": {},
     "output_type": "execute_result"
    }
   ],
   "source": [
    "len(captioned_images_df)"
   ]
  },
  {
   "cell_type": "markdown",
   "metadata": {},
   "source": [
    "----"
   ]
  },
  {
   "cell_type": "markdown",
   "metadata": {},
   "source": [
    "#### This shows that NER on image captions is useless"
   ]
  },
  {
   "cell_type": "code",
   "execution_count": 95,
   "metadata": {},
   "outputs": [
    {
     "name": "stdout",
     "output_type": "stream",
     "text": [
      "2 [(u'CAUSE_OF_DEATH', u'fire')]\n",
      "41 [(u'CRIMINAL_CHARGE', u'train'), (u'CRIMINAL_CHARGE', u'train')]\n",
      "49 [(u'TIME', u'night'), (u'TIME', u'night')]\n"
     ]
    }
   ],
   "source": [
    "for index,row in captioned_images_df.iterrows():\n",
    "    text = row['Captions']\n",
    "    annotated = client.annotate(str(text))\n",
    "    ners = []\n",
    "    for sentence in annotated.sentences:\n",
    "    #     print('sentence', sentence)\n",
    "        ne_tagged_sent = [(token.word, token.ner) for token in sentence]\n",
    "        named_entities = get_continuous_chunks(ne_tagged_sent)\n",
    "        named_entities = get_continuous_chunks(ne_tagged_sent)\n",
    "        named_entities_str_tag = [(\" \".join([token for token, tag in ne]), ne[0][1]) for ne in named_entities]\n",
    "        ners.extend(named_entities_str_tag)\n",
    "    ners = [tuple(reversed(x)) for x in ners]\n",
    "    if ners:\n",
    "        print index,ners"
   ]
  },
  {
   "cell_type": "markdown",
   "metadata": {},
   "source": [
    "----"
   ]
  },
  {
   "cell_type": "code",
   "execution_count": null,
   "metadata": {
    "collapsed": true
   },
   "outputs": [],
   "source": []
  },
  {
   "cell_type": "code",
   "execution_count": null,
   "metadata": {
    "collapsed": true
   },
   "outputs": [],
   "source": []
  },
  {
   "cell_type": "code",
   "execution_count": null,
   "metadata": {
    "collapsed": true
   },
   "outputs": [],
   "source": []
  },
  {
   "cell_type": "code",
   "execution_count": null,
   "metadata": {
    "collapsed": true
   },
   "outputs": [],
   "source": []
  },
  {
   "cell_type": "markdown",
   "metadata": {},
   "source": [
    "## concat with images dataset"
   ]
  },
  {
   "cell_type": "code",
   "execution_count": 192,
   "metadata": {
    "collapsed": true
   },
   "outputs": [],
   "source": [
    "captioned_images_df = pd.read_csv('data_set_v2_caption.csv')\n",
    "captioned_images_df['id'] = ''"
   ]
  },
  {
   "cell_type": "code",
   "execution_count": 193,
   "metadata": {},
   "outputs": [
    {
     "data": {
      "text/html": [
       "<div>\n",
       "<table border=\"1\" class=\"dataframe\">\n",
       "  <thead>\n",
       "    <tr style=\"text-align: right;\">\n",
       "      <th></th>\n",
       "      <th>Captions</th>\n",
       "      <th>Case_ID</th>\n",
       "      <th>Class</th>\n",
       "      <th>URL</th>\n",
       "      <th>id</th>\n",
       "    </tr>\n",
       "  </thead>\n",
       "  <tbody>\n",
       "    <tr>\n",
       "      <th>0</th>\n",
       "      <td>a black and white photo of a plane flying in t...</td>\n",
       "      <td>4023</td>\n",
       "      <td>['parachute, chute']</td>\n",
       "      <td>http://localhost:8764/inception/v3/caption/ima...</td>\n",
       "      <td></td>\n",
       "    </tr>\n",
       "    <tr>\n",
       "      <th>1</th>\n",
       "      <td>a view of a city street from the side of the r...</td>\n",
       "      <td>4783</td>\n",
       "      <td>['balloon']</td>\n",
       "      <td>http://localhost:8764/inception/v3/caption/ima...</td>\n",
       "      <td></td>\n",
       "    </tr>\n",
       "  </tbody>\n",
       "</table>\n",
       "</div>"
      ],
      "text/plain": [
       "                                            Captions  Case_ID  \\\n",
       "0  a black and white photo of a plane flying in t...     4023   \n",
       "1  a view of a city street from the side of the r...     4783   \n",
       "\n",
       "                  Class                                                URL id  \n",
       "0  ['parachute, chute']  http://localhost:8764/inception/v3/caption/ima...     \n",
       "1           ['balloon']  http://localhost:8764/inception/v3/caption/ima...     "
      ]
     },
     "execution_count": 193,
     "metadata": {},
     "output_type": "execute_result"
    }
   ],
   "source": [
    "captioned_images_df.head(2)"
   ]
  },
  {
   "cell_type": "code",
   "execution_count": 194,
   "metadata": {},
   "outputs": [],
   "source": [
    "for index,row in captioned_images_df.iterrows():\n",
    "    row_id = row['URL'].split(\"http://localhost:8764/inception/v3/caption/image?url=http://www.mufoncms.com/\",1)[1].replace('/','_')\n",
    "    captioned_images_df.loc[index, 'id'] = row_id\n",
    "        "
   ]
  },
  {
   "cell_type": "code",
   "execution_count": 195,
   "metadata": {},
   "outputs": [
    {
     "data": {
      "text/plain": [
       "(751, 1976)"
      ]
     },
     "execution_count": 195,
     "metadata": {},
     "output_type": "execute_result"
    }
   ],
   "source": [
    "len(captioned_images_df), len(df)"
   ]
  },
  {
   "cell_type": "code",
   "execution_count": 196,
   "metadata": {},
   "outputs": [
    {
     "data": {
      "text/plain": [
       "['id', 'location', 'lat', 'lon', 'date', 'text', 'named_entities', 'duration']"
      ]
     },
     "execution_count": 196,
     "metadata": {},
     "output_type": "execute_result"
    }
   ],
   "source": [
    "list(df)"
   ]
  },
  {
   "cell_type": "code",
   "execution_count": 197,
   "metadata": {},
   "outputs": [
    {
     "data": {
      "text/plain": [
       "2727"
      ]
     },
     "execution_count": 197,
     "metadata": {},
     "output_type": "execute_result"
    }
   ],
   "source": [
    "len(captioned_images_df.merge(df[['id', 'location', 'lat', 'lon', 'date', 'named_entities', 'duration']], on='id', how='outer'))"
   ]
  },
  {
   "cell_type": "code",
   "execution_count": 198,
   "metadata": {},
   "outputs": [
    {
     "ename": "UnicodeDecodeError",
     "evalue": "'utf8' codec can't decode byte 0xe4 in position 11860: invalid continuation byte",
     "output_type": "error",
     "traceback": [
      "\u001b[0;31m---------------------------------------------------------------------------\u001b[0m",
      "\u001b[0;31mUnicodeDecodeError\u001b[0m                        Traceback (most recent call last)",
      "\u001b[0;32m<ipython-input-198-268ca35f5eba>\u001b[0m in \u001b[0;36m<module>\u001b[0;34m()\u001b[0m\n\u001b[0;32m----> 1\u001b[0;31m \u001b[0mcaptioned_images_df\u001b[0m\u001b[0;34m.\u001b[0m\u001b[0mmerge\u001b[0m\u001b[0;34m(\u001b[0m\u001b[0mdf\u001b[0m\u001b[0;34m,\u001b[0m \u001b[0mon\u001b[0m\u001b[0;34m=\u001b[0m\u001b[0;34m'id'\u001b[0m\u001b[0;34m,\u001b[0m \u001b[0mhow\u001b[0m\u001b[0;34m=\u001b[0m\u001b[0;34m'outer'\u001b[0m\u001b[0;34m)\u001b[0m\u001b[0;34m.\u001b[0m\u001b[0mto_csv\u001b[0m\u001b[0;34m(\u001b[0m\u001b[0;34m'final_not_really.csv'\u001b[0m\u001b[0;34m,\u001b[0m\u001b[0mindex\u001b[0m\u001b[0;34m=\u001b[0m\u001b[0mFalse\u001b[0m\u001b[0;34m,\u001b[0m \u001b[0mencoding\u001b[0m\u001b[0;34m=\u001b[0m\u001b[0;34m'ISO-8859-1'\u001b[0m\u001b[0;34m)\u001b[0m\u001b[0;34m\u001b[0m\u001b[0m\n\u001b[0m",
      "\u001b[0;32m/usr/local/lib/python2.7/site-packages/pandas/core/frame.pyc\u001b[0m in \u001b[0;36mto_csv\u001b[0;34m(self, path_or_buf, sep, na_rep, float_format, columns, header, index, index_label, mode, encoding, compression, quoting, quotechar, line_terminator, chunksize, tupleize_cols, date_format, doublequote, escapechar, decimal)\u001b[0m\n\u001b[1;32m   1381\u001b[0m                                      \u001b[0mdoublequote\u001b[0m\u001b[0;34m=\u001b[0m\u001b[0mdoublequote\u001b[0m\u001b[0;34m,\u001b[0m\u001b[0;34m\u001b[0m\u001b[0m\n\u001b[1;32m   1382\u001b[0m                                      escapechar=escapechar, decimal=decimal)\n\u001b[0;32m-> 1383\u001b[0;31m         \u001b[0mformatter\u001b[0m\u001b[0;34m.\u001b[0m\u001b[0msave\u001b[0m\u001b[0;34m(\u001b[0m\u001b[0;34m)\u001b[0m\u001b[0;34m\u001b[0m\u001b[0m\n\u001b[0m\u001b[1;32m   1384\u001b[0m \u001b[0;34m\u001b[0m\u001b[0m\n\u001b[1;32m   1385\u001b[0m         \u001b[0;32mif\u001b[0m \u001b[0mpath_or_buf\u001b[0m \u001b[0;32mis\u001b[0m \u001b[0mNone\u001b[0m\u001b[0;34m:\u001b[0m\u001b[0;34m\u001b[0m\u001b[0m\n",
      "\u001b[0;32m/usr/local/lib/python2.7/site-packages/pandas/formats/format.pyc\u001b[0m in \u001b[0;36msave\u001b[0;34m(self)\u001b[0m\n\u001b[1;32m   1473\u001b[0m                 \u001b[0mself\u001b[0m\u001b[0;34m.\u001b[0m\u001b[0mwriter\u001b[0m \u001b[0;34m=\u001b[0m \u001b[0mcsv\u001b[0m\u001b[0;34m.\u001b[0m\u001b[0mwriter\u001b[0m\u001b[0;34m(\u001b[0m\u001b[0mf\u001b[0m\u001b[0;34m,\u001b[0m \u001b[0;34m**\u001b[0m\u001b[0mwriter_kwargs\u001b[0m\u001b[0;34m)\u001b[0m\u001b[0;34m\u001b[0m\u001b[0m\n\u001b[1;32m   1474\u001b[0m \u001b[0;34m\u001b[0m\u001b[0m\n\u001b[0;32m-> 1475\u001b[0;31m             \u001b[0mself\u001b[0m\u001b[0;34m.\u001b[0m\u001b[0m_save\u001b[0m\u001b[0;34m(\u001b[0m\u001b[0;34m)\u001b[0m\u001b[0;34m\u001b[0m\u001b[0m\n\u001b[0m\u001b[1;32m   1476\u001b[0m \u001b[0;34m\u001b[0m\u001b[0m\n\u001b[1;32m   1477\u001b[0m         \u001b[0;32mfinally\u001b[0m\u001b[0;34m:\u001b[0m\u001b[0;34m\u001b[0m\u001b[0m\n",
      "\u001b[0;32m/usr/local/lib/python2.7/site-packages/pandas/formats/format.pyc\u001b[0m in \u001b[0;36m_save\u001b[0;34m(self)\u001b[0m\n\u001b[1;32m   1574\u001b[0m                 \u001b[0;32mbreak\u001b[0m\u001b[0;34m\u001b[0m\u001b[0m\n\u001b[1;32m   1575\u001b[0m \u001b[0;34m\u001b[0m\u001b[0m\n\u001b[0;32m-> 1576\u001b[0;31m             \u001b[0mself\u001b[0m\u001b[0;34m.\u001b[0m\u001b[0m_save_chunk\u001b[0m\u001b[0;34m(\u001b[0m\u001b[0mstart_i\u001b[0m\u001b[0;34m,\u001b[0m \u001b[0mend_i\u001b[0m\u001b[0;34m)\u001b[0m\u001b[0;34m\u001b[0m\u001b[0m\n\u001b[0m\u001b[1;32m   1577\u001b[0m \u001b[0;34m\u001b[0m\u001b[0m\n\u001b[1;32m   1578\u001b[0m     \u001b[0;32mdef\u001b[0m \u001b[0m_save_chunk\u001b[0m\u001b[0;34m(\u001b[0m\u001b[0mself\u001b[0m\u001b[0;34m,\u001b[0m \u001b[0mstart_i\u001b[0m\u001b[0;34m,\u001b[0m \u001b[0mend_i\u001b[0m\u001b[0;34m)\u001b[0m\u001b[0;34m:\u001b[0m\u001b[0;34m\u001b[0m\u001b[0m\n",
      "\u001b[0;32m/usr/local/lib/python2.7/site-packages/pandas/formats/format.pyc\u001b[0m in \u001b[0;36m_save_chunk\u001b[0;34m(self, start_i, end_i)\u001b[0m\n\u001b[1;32m   1600\u001b[0m                                         quoting=self.quoting)\n\u001b[1;32m   1601\u001b[0m \u001b[0;34m\u001b[0m\u001b[0m\n\u001b[0;32m-> 1602\u001b[0;31m         \u001b[0mlib\u001b[0m\u001b[0;34m.\u001b[0m\u001b[0mwrite_csv_rows\u001b[0m\u001b[0;34m(\u001b[0m\u001b[0mself\u001b[0m\u001b[0;34m.\u001b[0m\u001b[0mdata\u001b[0m\u001b[0;34m,\u001b[0m \u001b[0mix\u001b[0m\u001b[0;34m,\u001b[0m \u001b[0mself\u001b[0m\u001b[0;34m.\u001b[0m\u001b[0mnlevels\u001b[0m\u001b[0;34m,\u001b[0m \u001b[0mself\u001b[0m\u001b[0;34m.\u001b[0m\u001b[0mcols\u001b[0m\u001b[0;34m,\u001b[0m \u001b[0mself\u001b[0m\u001b[0;34m.\u001b[0m\u001b[0mwriter\u001b[0m\u001b[0;34m)\u001b[0m\u001b[0;34m\u001b[0m\u001b[0m\n\u001b[0m\u001b[1;32m   1603\u001b[0m \u001b[0;34m\u001b[0m\u001b[0m\n\u001b[1;32m   1604\u001b[0m \u001b[0;31m# from collections import namedtuple\u001b[0m\u001b[0;34m\u001b[0m\u001b[0;34m\u001b[0m\u001b[0m\n",
      "\u001b[0;32mpandas/lib.pyx\u001b[0m in \u001b[0;36mpandas.lib.write_csv_rows (pandas/lib.c:21089)\u001b[0;34m()\u001b[0m\n",
      "\u001b[0;32m/usr/local/lib/python2.7/site-packages/pandas/io/common.pyc\u001b[0m in \u001b[0;36mwriterows\u001b[0;34m(self, rows)\u001b[0m\n\u001b[1;32m    476\u001b[0m             \u001b[0;31m# Fetch UTF-8 output from the queue ...\u001b[0m\u001b[0;34m\u001b[0m\u001b[0;34m\u001b[0m\u001b[0m\n\u001b[1;32m    477\u001b[0m             \u001b[0mdata\u001b[0m \u001b[0;34m=\u001b[0m \u001b[0mself\u001b[0m\u001b[0;34m.\u001b[0m\u001b[0mqueue\u001b[0m\u001b[0;34m.\u001b[0m\u001b[0mgetvalue\u001b[0m\u001b[0;34m(\u001b[0m\u001b[0;34m)\u001b[0m\u001b[0;34m\u001b[0m\u001b[0m\n\u001b[0;32m--> 478\u001b[0;31m             \u001b[0mdata\u001b[0m \u001b[0;34m=\u001b[0m \u001b[0mdata\u001b[0m\u001b[0;34m.\u001b[0m\u001b[0mdecode\u001b[0m\u001b[0;34m(\u001b[0m\u001b[0;34m\"utf-8\"\u001b[0m\u001b[0;34m)\u001b[0m\u001b[0;34m\u001b[0m\u001b[0m\n\u001b[0m\u001b[1;32m    479\u001b[0m             \u001b[0;31m# ... and reencode it into the target encoding\u001b[0m\u001b[0;34m\u001b[0m\u001b[0;34m\u001b[0m\u001b[0m\n\u001b[1;32m    480\u001b[0m             \u001b[0mdata\u001b[0m \u001b[0;34m=\u001b[0m \u001b[0mself\u001b[0m\u001b[0;34m.\u001b[0m\u001b[0mencoder\u001b[0m\u001b[0;34m.\u001b[0m\u001b[0mencode\u001b[0m\u001b[0;34m(\u001b[0m\u001b[0mdata\u001b[0m\u001b[0;34m)\u001b[0m\u001b[0;34m\u001b[0m\u001b[0m\n",
      "\u001b[0;32m/usr/local/Cellar/python@2/2.7.14_3/Frameworks/Python.framework/Versions/2.7/lib/python2.7/encodings/utf_8.pyc\u001b[0m in \u001b[0;36mdecode\u001b[0;34m(input, errors)\u001b[0m\n\u001b[1;32m     14\u001b[0m \u001b[0;34m\u001b[0m\u001b[0m\n\u001b[1;32m     15\u001b[0m \u001b[0;32mdef\u001b[0m \u001b[0mdecode\u001b[0m\u001b[0;34m(\u001b[0m\u001b[0minput\u001b[0m\u001b[0;34m,\u001b[0m \u001b[0merrors\u001b[0m\u001b[0;34m=\u001b[0m\u001b[0;34m'strict'\u001b[0m\u001b[0;34m)\u001b[0m\u001b[0;34m:\u001b[0m\u001b[0;34m\u001b[0m\u001b[0m\n\u001b[0;32m---> 16\u001b[0;31m     \u001b[0;32mreturn\u001b[0m \u001b[0mcodecs\u001b[0m\u001b[0;34m.\u001b[0m\u001b[0mutf_8_decode\u001b[0m\u001b[0;34m(\u001b[0m\u001b[0minput\u001b[0m\u001b[0;34m,\u001b[0m \u001b[0merrors\u001b[0m\u001b[0;34m,\u001b[0m \u001b[0mTrue\u001b[0m\u001b[0;34m)\u001b[0m\u001b[0;34m\u001b[0m\u001b[0m\n\u001b[0m\u001b[1;32m     17\u001b[0m \u001b[0;34m\u001b[0m\u001b[0m\n\u001b[1;32m     18\u001b[0m \u001b[0;32mclass\u001b[0m \u001b[0mIncrementalEncoder\u001b[0m\u001b[0;34m(\u001b[0m\u001b[0mcodecs\u001b[0m\u001b[0;34m.\u001b[0m\u001b[0mIncrementalEncoder\u001b[0m\u001b[0;34m)\u001b[0m\u001b[0;34m:\u001b[0m\u001b[0;34m\u001b[0m\u001b[0m\n",
      "\u001b[0;31mUnicodeDecodeError\u001b[0m: 'utf8' codec can't decode byte 0xe4 in position 11860: invalid continuation byte"
     ]
    }
   ],
   "source": [
    "captioned_images_df.merge(df, on='id', how='outer').to_csv('final_not_really.csv',index=False, encoding='ISO-8859-1')"
   ]
  },
  {
   "cell_type": "code",
   "execution_count": 178,
   "metadata": {},
   "outputs": [
    {
     "data": {
      "text/plain": [
       "4233"
      ]
     },
     "execution_count": 178,
     "metadata": {},
     "output_type": "execute_result"
    }
   ],
   "source": [
    "len(pd.read_csv('final_not_really.csv'))"
   ]
  },
  {
   "cell_type": "code",
   "execution_count": 122,
   "metadata": {},
   "outputs": [
    {
     "data": {
      "text/plain": [
       "'a black and white photo of a plane flying in the sky .'"
      ]
     },
     "execution_count": 122,
     "metadata": {},
     "output_type": "execute_result"
    }
   ],
   "source": [
    "captioned_images_df.loc[0,'Captions']"
   ]
  },
  {
   "cell_type": "code",
   "execution_count": 157,
   "metadata": {
    "collapsed": true
   },
   "outputs": [],
   "source": [
    "df.columns = df.columns.str.strip()"
   ]
  },
  {
   "cell_type": "code",
   "execution_count": null,
   "metadata": {},
   "outputs": [],
   "source": []
  },
  {
   "cell_type": "code",
   "execution_count": null,
   "metadata": {
    "collapsed": true
   },
   "outputs": [],
   "source": []
  },
  {
   "cell_type": "code",
   "execution_count": null,
   "metadata": {
    "collapsed": true
   },
   "outputs": [],
   "source": []
  },
  {
   "cell_type": "code",
   "execution_count": null,
   "metadata": {
    "collapsed": true
   },
   "outputs": [],
   "source": []
  },
  {
   "cell_type": "markdown",
   "metadata": {},
   "source": [
    "## Add shape from all UFO records"
   ]
  },
  {
   "cell_type": "code",
   "execution_count": 116,
   "metadata": {},
   "outputs": [],
   "source": [
    "common_shapes = ['changed','light','shape','fireball','egg','round','cylinder','unknown','pyramid','sphere','cone','oval','disk','flare','unknown','crescent','flash','cross','other','teardrop','chevron','circle','rectangle','triangle','cigar','diamond','delta','formation','changing']"
   ]
  },
  {
   "cell_type": "code",
   "execution_count": null,
   "metadata": {
    "collapsed": true
   },
   "outputs": [],
   "source": []
  }
 ],
 "metadata": {
  "kernelspec": {
   "display_name": "Python 2",
   "language": "python",
   "name": "python2"
  },
  "language_info": {
   "codemirror_mode": {
    "name": "ipython",
    "version": 2
   },
   "file_extension": ".py",
   "mimetype": "text/x-python",
   "name": "python",
   "nbconvert_exporter": "python",
   "pygments_lexer": "ipython2",
   "version": "2.7.14"
  }
 },
 "nbformat": 4,
 "nbformat_minor": 2
}
