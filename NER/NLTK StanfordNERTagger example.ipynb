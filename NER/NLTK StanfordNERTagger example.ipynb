{
 "cells": [
  {
   "cell_type": "code",
   "execution_count": 1,
   "metadata": {
    "collapsed": true
   },
   "outputs": [],
   "source": [
    "from nltk.tag import StanfordNERTagger\n",
    "from nltk.tokenize import word_tokenize\n",
    "from nltk import pos_tag\n",
    "from nltk.chunk import conlltags2tree\n",
    "from nltk.tree import Tree"
   ]
  },
  {
   "cell_type": "code",
   "execution_count": 2,
   "metadata": {
    "collapsed": true
   },
   "outputs": [],
   "source": [
    "def get_continuous_chunks(tagged_sent):\n",
    "    continuous_chunk = []\n",
    "    current_chunk = []\n",
    "\n",
    "    for token, tag in tagged_sent:\n",
    "        if tag != \"O\":\n",
    "            current_chunk.append((token, tag))\n",
    "        else:\n",
    "            if current_chunk: # if the current chunk is not empty\n",
    "                continuous_chunk.append(current_chunk)\n",
    "                current_chunk = []\n",
    "    # Flush the final current_chunk into the continuous_chunk, if any.\n",
    "    if current_chunk:\n",
    "        continuous_chunk.append(current_chunk)\n",
    "    return continuous_chunk"
   ]
  },
  {
   "cell_type": "code",
   "execution_count": 12,
   "metadata": {
    "collapsed": true
   },
   "outputs": [],
   "source": [
    "st = StanfordNERTagger('/Users/sanjay/Downloads/stanford-ner-2018-02-27/classifiers/english.muc.7class.distsim.crf.ser.gz', '/Users/sanjay/Downloads/stanford-ner-2018-02-27/stanford-ner.jar')"
   ]
  },
  {
   "cell_type": "code",
   "execution_count": 13,
   "metadata": {
    "collapsed": true
   },
   "outputs": [],
   "source": [
    "text = open('/Users/sanjay/Desktop/Masters/SPRING18/CS599/UFO_ocr_image-captioning_enrichment/british-ufo-files/DEFE-31-175/outtxt/10.txt','r') .read()"
   ]
  },
  {
   "cell_type": "code",
   "execution_count": 14,
   "metadata": {},
   "outputs": [
    {
     "data": {
      "text/plain": [
       "\" \\n\\nTo whom reported (Police.\\nmilitary, press etc)\\n\\nMOD Air Force Operations\\n\\n \\n\\nName & Address at InFormant\\n\\nSection 40\\n\\nHertFord\\nSection 40\\n\\n \\n\\nBackground 0? Informant that\\nmay he volunteered\\n\\nNone'given\\n\\n \\n\\nOther Witnesses\\n\\nSection 40\\n\\n \\n\\nDate. Time of Receipt\\n\\n171955 Local Nov 87\\n\\n \\n\\nAng Unusual Meteorological\\nConditions\\n\\nNil\\n\\n \\n\\nRemarks\\n\\n \\n\\nDate: 17 Nov 87\\nDistribution:\\n\\nSec(AS)2\\n\\nAEw/GE\\n\\nDI 55 /\\n\\nFile AF Ops/2/5/1\\n\\nSection 40\\n\\nV Sqn Ldr\\nDutg Ops Ot\\xef\\xac\\x81icer\\nAF Ops\\n\\n(5W,\\n\\n \\n\\n\""
      ]
     },
     "execution_count": 14,
     "metadata": {},
     "output_type": "execute_result"
    }
   ],
   "source": [
    "text"
   ]
  },
  {
   "cell_type": "code",
   "execution_count": 15,
   "metadata": {
    "collapsed": true
   },
   "outputs": [],
   "source": [
    "tokenized_text = word_tokenize(text)"
   ]
  },
  {
   "cell_type": "code",
   "execution_count": 16,
   "metadata": {
    "collapsed": true
   },
   "outputs": [],
   "source": [
    "ne_tagged_sent = st.tag(tokenized_text)"
   ]
  },
  {
   "cell_type": "code",
   "execution_count": 25,
   "metadata": {},
   "outputs": [
    {
     "data": {
      "text/plain": [
       "[(u'To', u'O'),\n",
       " (u'whom', u'O'),\n",
       " (u'reported', u'O'),\n",
       " (u'(', u'O'),\n",
       " (u'Police', u'O'),\n",
       " (u'.', u'O'),\n",
       " (u'military', u'O'),\n",
       " (u',', u'O'),\n",
       " (u'press', u'O'),\n",
       " (u'etc', u'O'),\n",
       " (u')', u'O'),\n",
       " (u'MOD', u'ORGANIZATION'),\n",
       " (u'Air', u'ORGANIZATION'),\n",
       " (u'Force', u'ORGANIZATION'),\n",
       " (u'Operations', u'ORGANIZATION'),\n",
       " (u'Name', u'ORGANIZATION'),\n",
       " (u'&', u'ORGANIZATION'),\n",
       " (u'Address', u'ORGANIZATION'),\n",
       " (u'at', u'O'),\n",
       " (u'InFormant', u'O'),\n",
       " (u'Section', u'O'),\n",
       " (u'40', u'O'),\n",
       " (u'HertFord', u'LOCATION'),\n",
       " (u'Section', u'O'),\n",
       " (u'40', u'O'),\n",
       " (u'Background', u'O'),\n",
       " (u'0', u'O'),\n",
       " (u'?', u'O'),\n",
       " (u'Informant', u'O'),\n",
       " (u'that', u'O'),\n",
       " (u'may', u'O'),\n",
       " (u'he', u'O'),\n",
       " (u'volunteered', u'O'),\n",
       " (u\"None'given\", u'O'),\n",
       " (u'Other', u'O'),\n",
       " (u'Witnesses', u'O'),\n",
       " (u'Section', u'O'),\n",
       " (u'40', u'O'),\n",
       " (u'Date', u'O'),\n",
       " (u'.', u'O'),\n",
       " (u'Time', u'ORGANIZATION'),\n",
       " (u'of', u'ORGANIZATION'),\n",
       " (u'Receipt', u'ORGANIZATION'),\n",
       " (u'171955', u'ORGANIZATION'),\n",
       " (u'Local', u'ORGANIZATION'),\n",
       " (u'Nov', u'ORGANIZATION'),\n",
       " (u'87', u'ORGANIZATION'),\n",
       " (u'Ang', u'ORGANIZATION'),\n",
       " (u'Unusual', u'ORGANIZATION'),\n",
       " (u'Meteorological', u'ORGANIZATION'),\n",
       " (u'Conditions', u'ORGANIZATION'),\n",
       " (u'Nil', u'ORGANIZATION'),\n",
       " (u'Remarks', u'O'),\n",
       " (u'Date', u'O'),\n",
       " (u':', u'O'),\n",
       " (u'17', u'O'),\n",
       " (u'Nov', u'O'),\n",
       " (u'87', u'O'),\n",
       " (u'Distribution', u'O'),\n",
       " (u':', u'O'),\n",
       " (u'Sec', u'O'),\n",
       " (u'(', u'O'),\n",
       " (u'AS', u'O'),\n",
       " (u')', u'O'),\n",
       " (u'2', u'O'),\n",
       " (u'AEwGE', u'O'),\n",
       " (u'DI', u'O'),\n",
       " (u'55', u'O'),\n",
       " (u'', u'O'),\n",
       " (u'File', u'O'),\n",
       " (u'AF', u'O'),\n",
       " (u'Ops251', u'O'),\n",
       " (u'Section', u'O'),\n",
       " (u'40', u'O'),\n",
       " (u'V', u'O'),\n",
       " (u'Sqn', u'O'),\n",
       " (u'Ldr', u'O'),\n",
       " (u'Dutg', u'O'),\n",
       " (u'Ops', u'O'),\n",
       " (u'Ot\\ufb01icer', u'O'),\n",
       " (u'AF', u'O'),\n",
       " (u'Ops', u'O'),\n",
       " (u'(', u'O'),\n",
       " (u'5W', u'O'),\n",
       " (u',', u'O')]"
      ]
     },
     "execution_count": 25,
     "metadata": {},
     "output_type": "execute_result"
    }
   ],
   "source": [
    "ne_tagged_sent"
   ]
  },
  {
   "cell_type": "code",
   "execution_count": 18,
   "metadata": {
    "collapsed": true
   },
   "outputs": [],
   "source": [
    "named_entities = get_continuous_chunks(ne_tagged_sent)\n",
    "named_entities = get_continuous_chunks(ne_tagged_sent)"
   ]
  },
  {
   "cell_type": "code",
   "execution_count": 19,
   "metadata": {
    "collapsed": true
   },
   "outputs": [],
   "source": [
    "named_entities_str_tag = [(\" \".join([token for token, tag in ne]), ne[0][1]) for ne in named_entities]"
   ]
  },
  {
   "cell_type": "code",
   "execution_count": 20,
   "metadata": {},
   "outputs": [
    {
     "data": {
      "text/plain": [
       "[(u'MOD Air Force Operations Name & Address', u'ORGANIZATION'),\n",
       " (u'HertFord', u'LOCATION'),\n",
       " (u'Time of Receipt 171955 Local Nov 87 Ang Unusual Meteorological Conditions Nil',\n",
       "  u'ORGANIZATION')]"
      ]
     },
     "execution_count": 20,
     "metadata": {},
     "output_type": "execute_result"
    }
   ],
   "source": [
    "named_entities_str_tag"
   ]
  },
  {
   "cell_type": "code",
   "execution_count": 21,
   "metadata": {
    "collapsed": true
   },
   "outputs": [],
   "source": [
    "import dateparser"
   ]
  },
  {
   "cell_type": "code",
   "execution_count": 26,
   "metadata": {
    "collapsed": true
   },
   "outputs": [],
   "source": [
    "from autocorrect import spell"
   ]
  },
  {
   "cell_type": "code",
   "execution_count": 27,
   "metadata": {},
   "outputs": [
    {
     "data": {
      "text/plain": [
       "'Liverpol of Receipt 171955 Local June 4 1994 Ang Unusual Meteorological Conditions Nil'"
      ]
     },
     "execution_count": 27,
     "metadata": {},
     "output_type": "execute_result"
    }
   ],
   "source": [
    "spell('Liverpol of Receipt 171955 Local June 4 1994 Ang Unusual Meteorological Conditions Nil')"
   ]
  },
  {
   "cell_type": "markdown",
   "metadata": {},
   "source": [
    "-----"
   ]
  },
  {
   "cell_type": "code",
   "execution_count": 28,
   "metadata": {
    "collapsed": true
   },
   "outputs": [],
   "source": [
    "import pandas as pd"
   ]
  },
  {
   "cell_type": "code",
   "execution_count": null,
   "metadata": {
    "collapsed": true
   },
   "outputs": [],
   "source": [
    "df = pd.read_csv('')"
   ]
  }
 ],
 "metadata": {
  "kernelspec": {
   "display_name": "Python 2",
   "language": "python",
   "name": "python2"
  },
  "language_info": {
   "codemirror_mode": {
    "name": "ipython",
    "version": 2
   },
   "file_extension": ".py",
   "mimetype": "text/x-python",
   "name": "python",
   "nbconvert_exporter": "python",
   "pygments_lexer": "ipython2",
   "version": "2.7.14"
  }
 },
 "nbformat": 4,
 "nbformat_minor": 2
}
